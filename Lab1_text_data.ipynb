{
  "cells": [
    {
      "cell_type": "markdown",
      "metadata": {
        "id": "view-in-github",
        "colab_type": "text"
      },
      "source": [
        "<a href=\"https://colab.research.google.com/github/vlassner/DSML_4220_Deep_Learning/blob/main/Lab1_text_data.ipynb\" target=\"_parent\"><img src=\"https://colab.research.google.com/assets/colab-badge.svg\" alt=\"Open In Colab\"/></a>"
      ]
    },
    {
      "cell_type": "markdown",
      "metadata": {
        "id": "dXPQd56hzCMQ"
      },
      "source": [
        "# DSML4220 - Lab 1: Working with Text Data\n",
        "\n",
        "In this notebook we'll explore the Airline Tweet dataset and implement the simplest _model_ that we can come up with to predict whether a tweet will be a) positive, b) neutral, or c) negative. To run this notebook in Google Colab or on Kaggle, click one of the following links.  When you are done you will save your (completed) notebook in Kaggle, Colab, or a GitHub gist, and then submit the link to it in Canvas.\n",
        "\n",
        "[![Open In Colab](https://colab.research.google.com/assets/colab-badge.svg)](https://colab.research.google.com/github/sgeinitz/DSML4220/blob/main/lab1_text_data.ipynb)\n",
        "\n",
        "[![Kaggle](https://kaggle.com/static/images/open-in-kaggle.svg)](https://kaggle.com/kernels/welcome?src=https://github.com/sgeinitz/DSML4220/blob/main/lab1_text_data.ipynb)\n",
        "\n",
        "Table of Contents\n",
        "* [0: Python Review](#0-python-review)\n",
        "* [1: Loading Data](#1-loading-dataset)\n",
        "* [2: Develop Simple Model](#2-develop-simple-model)\n",
        "* [3: Evaluate Simple Model](#3-evaluate-simple-model)\n",
        "* [4: Tokenization via Stemming](#4-tokenization-via-stemming)\n",
        "* [5: Tokenization via Lemmatization](#5-tokenization-via-lemmatization)\n",
        "* [6: Vectorization (and a 'real' ML Model)](#6-vectorization)\n",
        "\n",
        "All of the labs will have a few questions that you will need to answer (perhaps after modifying/writing some code). Ideally you work through this notebook from start to finish and answer the questions as you go. But to help ensure that no questions are left unanswered, they are linked to here:\n",
        "* [Q1](#q1)\n",
        "* [Q2](#q1)\n",
        "* [Q3](#q3)\n",
        "* [Q4](#q4)\n",
        "* [Q5](#q5)\n",
        "***\n",
        "Note that this notebook does not look like most Jupyter notebooks you will see. That's because you will typically load all of the Python modules/libraries that you need at the beginning in the very first code cell. However, in order for us to see which library we're using where, we'll load them immediately before we need them. For a brief intro on what Jupyter notebooks are and how they work, check out [this short tutorial by Jeremy Howard](https://www.kaggle.com/code/jhoward/jupyter-notebook-101).\n",
        "***"
      ]
    },
    {
      "cell_type": "markdown",
      "metadata": {
        "tags": [
          "intro0"
        ],
        "id": "CI2Ae0e1zCMR"
      },
      "source": [
        "### 0: Python Review\n",
        "Before we even get started though, let's quickly review a few important classes/datatypes that will come up often when working with Deep Learning models. The first of these is the [`pandas`](https://pandas.pydata.org/docs/index.html) [`DataFrame`](https://pandas.pydata.org/docs/reference/api/pandas.DataFrame.html).\n",
        "\n",
        "To start, we'll import pandas and create a DataFrame object. But, first, let's create a simple Python [`dictionary`](https://docs.python.org/3/tutorial/datastructures.html#dictionaries):"
      ]
    },
    {
      "cell_type": "code",
      "execution_count": null,
      "metadata": {
        "id": "oL61c_vjzCMR"
      },
      "outputs": [],
      "source": [
        "toy_dict = {'col_a':[1,2,3,4,5], 'col_b':['blue', 'red', 'red', 'purple', 'red']}\n",
        "toy_dict"
      ]
    },
    {
      "cell_type": "markdown",
      "metadata": {
        "id": "PHAphrI4zCMS"
      },
      "source": [
        "Above we created a toy example of a pandas DataFrame. Most often a data frame will be created by reading an input file, but it's also possible to create one manually using a dictionary. We can verify the datatype is `dict` by using the `type()` function:"
      ]
    },
    {
      "cell_type": "code",
      "execution_count": null,
      "metadata": {
        "id": "fgeTyw7MzCMS"
      },
      "outputs": [],
      "source": [
        "type(toy_dict)"
      ]
    },
    {
      "cell_type": "markdown",
      "metadata": {
        "id": "4Fr-1O5EzCMS"
      },
      "source": [
        "This dictionary can then be used to create a pandas data frame, where each `dict` key is a column name, and each corresponding `dict` value (which is a list) defines the data in that column."
      ]
    },
    {
      "cell_type": "code",
      "execution_count": null,
      "metadata": {
        "id": "ONvaStwczCMS"
      },
      "outputs": [],
      "source": [
        "import pandas as pd\n",
        "\n",
        "toy_df = pd.DataFrame(toy_dict)\n",
        "toy_df"
      ]
    },
    {
      "cell_type": "markdown",
      "metadata": {
        "id": "yoSRhQeNzCMT"
      },
      "source": [
        "### 1: Loading Dataset\n",
        "Now getting back to our problem... we want to use the Airline Tweets (text) dataset to create a simple model for predicting the tweet sentiment. To do so we'll need to load the dataset into a `pandas` `DataFrame`. If the data is stored locally then we would use `pd.read_csv(\"path/to/file/file.csv\")` to open it. In this case, the data is online at GitHub. Fortunately, the `pandas` module also knows how to open a file from a URL without any additional parameters. So, we can still use the same method but with the URL instead of the local path, as seen below.\n",
        "\n",
        "After loading the data file, we'll check what the dimensions of the data frame are (i.e. number of rows and number of columns - shown together in a single Python [`tuple`](https://docs.python.org/3/tutorial/datastructures.html#tuples-and-sequences))."
      ]
    },
    {
      "cell_type": "code",
      "execution_count": null,
      "metadata": {
        "id": "VHO5yYI7zCMT"
      },
      "outputs": [],
      "source": [
        "data_URL = 'https://raw.githubusercontent.com/sgeinitz/DSML4220/main/data/airlinetweets.csv'\n",
        "df = pd.read_csv(data_URL)\n",
        "df.shape"
      ]
    },
    {
      "cell_type": "markdown",
      "metadata": {
        "id": "UTWw9ORmzCMT"
      },
      "source": [
        "Now let's look at the first few observations (i.e. tweets) in the data frame using the DataFrame's `head` method. This is first and most basic step we can do in what is called, [Exploratory Data Analysis (EDA)](https://en.wikipedia.org/wiki/Exploratory_data_analysis). We will not dig much into actual EDA in this notebook, but it's important to note that this is a critical step in any data analysis or modeling project. If we were to complete a full EDA though, there are many tools that can help out, such as the [ydata-profiling project](https://github.com/ydataai/ydata-profiling) Python module. Perhaps not surprising, AI tools and LLMs (e.g. ChatGPT) can even perform a simple EDA on a dataset.\n",
        "\n",
        " For now we will simply peek at the first few rows.\n"
      ]
    },
    {
      "cell_type": "code",
      "execution_count": null,
      "metadata": {
        "id": "jSXOwfR_zCMU"
      },
      "outputs": [],
      "source": [
        "df.head(10)"
      ]
    },
    {
      "cell_type": "markdown",
      "metadata": {
        "id": "xOHGWf_4zCMU"
      },
      "source": [
        "To be able to see the the full __text__ field/column we need to tell pandas to change its default column width to be displayed."
      ]
    },
    {
      "cell_type": "code",
      "execution_count": null,
      "metadata": {
        "id": "Z8FsMvyMzCMU"
      },
      "outputs": [],
      "source": [
        "pd.set_option(\"display.max_colwidth\", 240)\n",
        "df.head()"
      ]
    },
    {
      "cell_type": "markdown",
      "metadata": {
        "id": "UOGBJm7ozCMU"
      },
      "source": [
        "\n",
        "We would typically also use the `describe` DataFrame method to see some descriptive statistics for each column, but as we'll see below. It does not provide as much for text data as for numerical data, but this is still useful information. Namely, how many non-empty cells are there in each column, how many unique values in each column, most frequently occuring value, and the frequency of the most frequenly occurring value in each column."
      ]
    },
    {
      "cell_type": "code",
      "execution_count": null,
      "metadata": {
        "id": "_Jm63gCezCMU"
      },
      "outputs": [],
      "source": [
        "df.describe()"
      ]
    },
    {
      "cell_type": "markdown",
      "metadata": {
        "id": "smnLYyHAzCMV"
      },
      "source": [
        "Now let's summarize the observations (i.e. tweets) by their labels (i.e. sentiment). We know there should be three possible values for the labels: positive, neutral, and negative. From above, we already know that _negative_ is the most frequent sentiment, but we can now see how many times the other sentiments (i.e. classes) appear."
      ]
    },
    {
      "cell_type": "code",
      "execution_count": null,
      "metadata": {
        "id": "TOJ0PQXezCMV"
      },
      "outputs": [],
      "source": [
        "df.sentiment.value_counts(normalize=True)"
      ]
    },
    {
      "cell_type": "markdown",
      "metadata": {
        "id": "sZIviWvyzCMV"
      },
      "source": [
        "Let's now see what are the most common words used. Note that this means we need to separate the each tweet into the words. The most basic way to accomplish this is to use Python's string method, __split__. We can first confirm that the _text_ field is in a fact a string by looking at the data frame's data types with __dtypes__."
      ]
    },
    {
      "cell_type": "code",
      "execution_count": null,
      "metadata": {
        "id": "gaGR2JIHzCMV"
      },
      "outputs": [],
      "source": [
        "df.dtypes"
      ]
    },
    {
      "cell_type": "markdown",
      "metadata": {
        "id": "mTOYArrCzCMV"
      },
      "source": [
        "Note that the _text_ column is not a string data type, but is instead the more general __object__ data type (note that everything in Python inherits from the __object__ data type). Because of Python's friendly dynamic behavior, we don't need to worry about this if we were to look at a single tweet. That is, Python will allow us to use the string.split() method when we are using a single tweet:\n"
      ]
    },
    {
      "cell_type": "code",
      "execution_count": null,
      "metadata": {
        "id": "K8QjkWRSzCMV"
      },
      "outputs": [],
      "source": [
        "df.iloc[1,1].split()"
      ]
    },
    {
      "cell_type": "markdown",
      "metadata": {
        "id": "_e-vME7FzCMW"
      },
      "source": [
        "However, if we try to use split on the entire column we'll run into an issue, as can be seen by the error we encountered here (if you uncomment the line in the following cell)."
      ]
    },
    {
      "cell_type": "code",
      "execution_count": null,
      "metadata": {
        "id": "cwKejvQ8zCMW"
      },
      "outputs": [],
      "source": [
        "# df['text'].split()"
      ]
    },
    {
      "cell_type": "markdown",
      "metadata": {
        "id": "COs_kH7vzCMW"
      },
      "source": [
        "To avoid this we need to use the [`str`](https://pandas.pydata.org/docs/reference/api/pandas.Series.str.html) attribute for the pandas [`DataSeries`](https://pandas.pydata.org/docs/reference/api/pandas.Series.html) object. This will to allow for string methods to be used. We'll now do this for the first 5 rows of data."
      ]
    },
    {
      "cell_type": "code",
      "execution_count": null,
      "metadata": {
        "id": "cdhOHblizCMW"
      },
      "outputs": [],
      "source": [
        "df['text'][:5].str.split()"
      ]
    },
    {
      "cell_type": "markdown",
      "metadata": {
        "id": "dK8GaGe-zCMX"
      },
      "source": [
        "Let's now add a new column that contains the list of tokens (i.e. words) for each tweet. Note that the [`split()`](https://pandas.pydata.org/docs/reference/api/pandas.Series.str.split.html#pandas-series-str-split) method splits a string by the SPACE character by default. This looks alright for now, but we'll see how to improve this later on. Now, however, that we will also convert everything to lowercase before splitting."
      ]
    },
    {
      "cell_type": "code",
      "execution_count": null,
      "metadata": {
        "id": "4z4kDtEFzCMX"
      },
      "outputs": [],
      "source": [
        "df['tokens'] = df['text'].str.lower().str.split()\n",
        "df.head()"
      ]
    },
    {
      "cell_type": "markdown",
      "metadata": {
        "id": "_E3aeswIzCMX"
      },
      "source": [
        "### 2: Develop Simple Model\n",
        "\n",
        "Let's now get into our naive model approach we discussed earlier. The idea was to count how often each word (i.e. token) appears in all of the positive tweets, in all of the negative tweets, and in all of the neutral tweets. Before that though, let's simply count how often each word occurs across all of the tweets. We'll use a `dict` datatype for this,  each __key__ is a word and the key's __value__ will be the number of times that word appears."
      ]
    },
    {
      "cell_type": "code",
      "execution_count": null,
      "metadata": {
        "id": "jhey-KIAzCMX"
      },
      "outputs": [],
      "source": [
        "vocab = dict()\n",
        "for tweet_tokens in df['tokens']:\n",
        "    for token in tweet_tokens:\n",
        "        if token not in vocab:\n",
        "            vocab[token] = 1\n",
        "        else:\n",
        "            vocab[token] += 1\n",
        "\n",
        "len(vocab)"
      ]
    },
    {
      "cell_type": "markdown",
      "metadata": {
        "id": "WbPJi-6rzCMX"
      },
      "source": [
        "Let's sort these by the frequency with which each word (i.e. token) appears and then look at the top 20 or so."
      ]
    },
    {
      "cell_type": "code",
      "execution_count": null,
      "metadata": {
        "id": "asSFob7NzCMX"
      },
      "outputs": [],
      "source": [
        "vocab_sorted = dict(sorted(vocab.items(), key=lambda item: item[1], reverse=True))\n",
        "list(vocab_sorted.items())[:25]"
      ]
    },
    {
      "cell_type": "markdown",
      "metadata": {
        "id": "tp8f3uoJzCMY"
      },
      "source": [
        "Not surprising that words such as, \"_to_\", \"_the_\", \"_i_\", etc. are the most frequently appearing. It seems that most of these will also not convey much information in terms of sentiment. To prevent such uninformative words from influencing the task at hand, most NLP libraries/tasks provide an easy way to remove stop words.\n",
        "\n",
        "Before utilizing to a Python module designed to work with text data, let's first try continuing with our simple manual approach. Let's see if we can see some difference between in the word (i.e. token) frequencies when we separate the data frame into positive, neutral, and negative."
      ]
    },
    {
      "cell_type": "code",
      "execution_count": null,
      "metadata": {
        "id": "fvz7lzOnzCMY"
      },
      "outputs": [],
      "source": [
        "df_pos = df[df['sentiment'] == 'positive']\n",
        "df_neg = df[df['sentiment'] == 'negative']\n",
        "df_neu = df[df['sentiment'] == 'neutral']\n",
        "\n",
        "def create_vocab_list(tokens_column):\n",
        "    vocab = dict()\n",
        "    for tweet_tokens in tokens_column:\n",
        "        for token in tweet_tokens:\n",
        "            if token not in vocab:\n",
        "                vocab[token] = 1\n",
        "            else:\n",
        "                vocab[token] += 1\n",
        "    return vocab\n",
        "\n",
        "vocab_pos = dict(sorted(create_vocab_list(df_pos['tokens']).items(), key=lambda item: item[1], reverse=True))\n",
        "vocab_neg = dict(sorted(create_vocab_list(df_neg['tokens']).items(), key=lambda item: item[1], reverse=True))\n",
        "vocab_neu = dict(sorted(create_vocab_list(df_neu['tokens']).items(), key=lambda item: item[1], reverse=True))"
      ]
    },
    {
      "cell_type": "markdown",
      "metadata": {
        "id": "V4CMASDKzCMY"
      },
      "source": [
        "Let's now output the most frequently occuring words for each sentiment class."
      ]
    },
    {
      "cell_type": "code",
      "execution_count": null,
      "metadata": {
        "id": "zCQ9WTt2zCMY"
      },
      "outputs": [],
      "source": [
        "list(vocab_pos.items())[:15]"
      ]
    },
    {
      "cell_type": "code",
      "execution_count": null,
      "metadata": {
        "id": "5EVmyofvzCMY"
      },
      "outputs": [],
      "source": [
        "list(vocab_neg.items())[:15]"
      ]
    },
    {
      "cell_type": "code",
      "execution_count": null,
      "metadata": {
        "id": "Gd5tXof0zCMY"
      },
      "outputs": [],
      "source": [
        "list(vocab_neu.items())[:15]"
      ]
    },
    {
      "cell_type": "markdown",
      "metadata": {
        "id": "2PuGREGQzCMZ"
      },
      "source": [
        "The output above confirms that many of the overall most frequently occuring words are not correlated in anyway with the sentiment of the tweet since, for example, \"_to_\", is the first or second frequently occurring for each separate group. In other words, there still a lot of stop words in the vocabularies for positive, negative and neutral tweets. Let's try removing the tokens from each of these vocabularies, if the token is also in the top, say, $100$, tokens overall.\n",
        "<a id=\"topn2remove\"></a>"
      ]
    },
    {
      "cell_type": "code",
      "execution_count": null,
      "metadata": {
        "id": "YzKsx4kuzCMZ"
      },
      "outputs": [],
      "source": [
        "top_n_to_remove = 500\n",
        "for item in list(vocab_sorted.items())[:top_n_to_remove]:\n",
        "    #print(f\" removing token: {item[0]:15} (w/ freq = {item[1]:5}) from vocabs\")\n",
        "    if item[0] in vocab_pos:\n",
        "        del vocab_pos[item[0]]\n",
        "    if item[0] in vocab_neg:\n",
        "        del vocab_neg[item[0]]\n",
        "    if item[0] in vocab_neu:\n",
        "        del vocab_neu[item[0]]\n"
      ]
    },
    {
      "cell_type": "code",
      "execution_count": null,
      "metadata": {
        "id": "iCSF4J2AzCMZ"
      },
      "outputs": [],
      "source": [
        "list(vocab_pos.items())[:15]"
      ]
    },
    {
      "cell_type": "code",
      "execution_count": null,
      "metadata": {
        "id": "gwGB9TCpzCMZ"
      },
      "outputs": [],
      "source": [
        "list(vocab_neg.items())[:15]"
      ]
    },
    {
      "cell_type": "code",
      "execution_count": null,
      "metadata": {
        "id": "_z8rmQBlzCMZ"
      },
      "outputs": [],
      "source": [
        "list(vocab_neu.items())[:15]"
      ]
    },
    {
      "cell_type": "markdown",
      "metadata": {
        "id": "pry3XLu_zCMZ"
      },
      "source": [
        "That looks a little better! Now, let's try classifying the tweets by looking at one and counting how many tokens it has from the top k tokens in the vocab_pos, vocab_neg, and vocab_neutral sets. Whichever vocab it has the greatest number of tokens from, let's classify it as that.\n",
        "\n",
        "To accomplish this let's first create a vocabulary for each of the possible label values. Note that below we are including all the tokens for each label but we could easily include just the top k positive tokens, top k negative, etc."
      ]
    },
    {
      "cell_type": "code",
      "execution_count": null,
      "metadata": {
        "id": "KFP3lZXszCMZ"
      },
      "outputs": [],
      "source": [
        "classifier_tokens = {\"positive\": list(vocab_pos.keys())[:], \"negative\": list(vocab_neg.keys())[:], \"neutral\": list(vocab_neu.keys())[:]}"
      ]
    },
    {
      "cell_type": "markdown",
      "metadata": {
        "id": "rFDw59H1zCMa"
      },
      "source": [
        "Let's count exactly how many tokens will be considered for each class. It's not surprising that there are the most negative tokens. That's because most of the tweets are negative, so there are more unique tokens among the negative tweets."
      ]
    },
    {
      "cell_type": "code",
      "execution_count": null,
      "metadata": {
        "id": "jDMwttK_zCMa"
      },
      "outputs": [],
      "source": [
        "print(f\"positive tokens: {len(classifier_tokens['positive'])} \\\n",
        "      \\nnegative tokens: {len(classifier_tokens['negative'])} \\\n",
        "      \\nneutral tokens: {len(classifier_tokens['neutral'])}\")"
      ]
    },
    {
      "cell_type": "markdown",
      "metadata": {
        "id": "PrFTBQGezCMa"
      },
      "source": [
        "Let's see what the classifier_tokens dictionary looks like\n"
      ]
    },
    {
      "cell_type": "code",
      "execution_count": null,
      "metadata": {
        "id": "YgOG_qBjzCMa"
      },
      "outputs": [],
      "source": [
        "# let's see the top 20 tokens for each sentiment\n",
        "for sentiment in classifier_tokens:\n",
        "    print(f\"top 10 tokens for {sentiment} tweets: \\n    {classifier_tokens[sentiment][:20]}\")"
      ]
    },
    {
      "cell_type": "markdown",
      "metadata": {
        "id": "1G7OYpfrzCMa"
      },
      "source": [
        "Okay, we're almost done. Let's now define the so-called model by implementing a `predict` function. There are many variations of this that could be done, but this is what we have."
      ]
    },
    {
      "cell_type": "code",
      "execution_count": null,
      "metadata": {
        "id": "387pP6_rzCMa"
      },
      "outputs": [],
      "source": [
        "def predict_tweet_sentiment(tweet_tokens, verbose=False):\n",
        "    if verbose:\n",
        "        print(f\"tweet: {' '.join(tweet_tokens)}\")\n",
        "    pos = 0\n",
        "    neg = 0\n",
        "    neu = 0\n",
        "    for tok in tweet_tokens:\n",
        "        if tok in classifier_tokens['positive']:\n",
        "            pos += 1\n",
        "        elif tok in classifier_tokens['negative']:\n",
        "            neg += 1\n",
        "        elif tok in classifier_tokens['neutral']:\n",
        "            neu += 1\n",
        "    if verbose:\n",
        "        print(f\"counts: \\n  postive tokens: {pos}\\n  negative tokens: {neg}\\n  neutral tokens: {neu}\")\n",
        "    if pos > neg and pos > neu:\n",
        "        prediction = \"positive\"\n",
        "    elif neu > pos and neu > neg:\n",
        "        prediction = \"neutral\"\n",
        "    else:\n",
        "        prediction = \"negative\"\n",
        "    if verbose:\n",
        "        print(f\"prediction: {prediction}\")\n",
        "    return prediction"
      ]
    },
    {
      "cell_type": "markdown",
      "metadata": {
        "id": "swRVAUVUzCMa"
      },
      "source": [
        "Let's see what happens when we try to classify one single tweet using our `predict` function."
      ]
    },
    {
      "cell_type": "code",
      "execution_count": null,
      "metadata": {
        "id": "GV-_w2v5zCMb"
      },
      "outputs": [],
      "source": [
        "i = 100\n",
        "print(df.iloc[i,:])\n",
        "tweet2classify = df.iloc[i,:]['tokens']"
      ]
    },
    {
      "cell_type": "code",
      "execution_count": null,
      "metadata": {
        "id": "FfLyRnF_zCMb"
      },
      "outputs": [],
      "source": [
        "predict_tweet_sentiment(tweet2classify, verbose=True)"
      ]
    },
    {
      "cell_type": "markdown",
      "metadata": {
        "id": "TdkUvhQ0zCMb"
      },
      "source": [
        "### 3: Evaluate Simple Model\n",
        "\n",
        "Let's now make predictions for all of the tweets in the dataset."
      ]
    },
    {
      "cell_type": "code",
      "execution_count": null,
      "metadata": {
        "id": "dhrUmpd6zCMb"
      },
      "outputs": [],
      "source": [
        "df['predicted_sentiment'] = df['tokens'].apply(lambda x: predict_tweet_sentiment(x))"
      ]
    },
    {
      "cell_type": "markdown",
      "metadata": {
        "id": "ECjzZSydzCMb"
      },
      "source": [
        "Let's look at a few of the predictions as compared to the actual (i.e. true) labels."
      ]
    },
    {
      "cell_type": "code",
      "execution_count": null,
      "metadata": {
        "id": "vGVUYbSQzCMb"
      },
      "outputs": [],
      "source": [
        "df[['sentiment','predicted_sentiment','text']].head(10)"
      ]
    },
    {
      "cell_type": "code",
      "execution_count": null,
      "metadata": {
        "id": "Ne9PjidKzCMb"
      },
      "outputs": [],
      "source": [
        "from sklearn.metrics import confusion_matrix, ConfusionMatrixDisplay, accuracy_score\n",
        "confusion_matrix(df['sentiment'], df['predicted_sentiment'])\n",
        "disp = ConfusionMatrixDisplay(confusion_matrix(df['sentiment'], df['predicted_sentiment']), display_labels=['negative', 'neutral', 'positive'])\n",
        "disp.plot()\n",
        "\n",
        "mod_accuracy = accuracy_score(df['sentiment'], df['predicted_sentiment'])\n",
        "print(f\"model accuracy: {mod_accuracy*100:.2f}%\")"
      ]
    },
    {
      "cell_type": "markdown",
      "metadata": {
        "id": "jm6sQrC_zCMc"
      },
      "source": [
        "***\n",
        "#### Q1\n",
        "Go back to where we declared `top_n_to_remove` ([here](#topn2remove)). Try changing the value to see if you can improve the accuracy of our model. No need to justify or explain the value you use, just try experimenting with considerably smaller or larger values and see if you can improve the accuracy.\n",
        "\n",
        "What is the model accuracy that you get? Were you able to beat ~66% (the accuracy if every tweet were predicted to be negative)?\n",
        "\n",
        "`I was able to get a model accuracy of 71.89% with a top_n_to_remove of 500.\n",
        "***\n",
        "\n",
        "#### Q2\n",
        "Does the model accuracy we found above give you a good idea of how this model will perform on future tweets? If not, then what could you do to get a better idea of how it will perform on future tweets?\n",
        "\n",
        "`I believe the model accuaracy doesn't do a good job of telling how well the model is trained because there was no test data set aside to test how well the model does. In this case we are only comparing it to the inputed sentiment.\n",
        "***"
      ]
    },
    {
      "cell_type": "markdown",
      "metadata": {
        "id": "NpBZddw3zCMc"
      },
      "source": [
        "### 4: Tokenization via Stemming\n",
        "\n",
        "Our tokenization approach above was very basic. All we did was split the text on spaces. This resulted in there being separate tokens for strings like \"_delay_\" and \"_delayed_\". Let's now try using a better approach to tokenization known as [__stemming__](https://en.wikipedia.org/wiki/Stemming).\n",
        "\n",
        "Recall that stemming is an approach in which words are truncated to attempt to find the same root or base word. We'll use the natural language toolkit ([__nltk__](https://www.nltk.org/index.html)) for this and try it on an example below."
      ]
    },
    {
      "cell_type": "code",
      "execution_count": null,
      "metadata": {
        "id": "OKYo9g2-zCMc"
      },
      "outputs": [],
      "source": [
        "from nltk.stem import LancasterStemmer\n",
        "#words = [\"delay\", \"delayed\", \"delays\"]\n",
        "words = [\"run\", \"running\", \"runs\", \"ran\"]\n",
        "#words = [\"fly\", \"flying\", \"flies\", \"flew\"]\n",
        "stemmer = LancasterStemmer()\n",
        "for word in words:\n",
        "    print(f\"{word} -> {stemmer.stem(word)}\")"
      ]
    },
    {
      "cell_type": "markdown",
      "metadata": {
        "id": "lMxqQws7zCMc"
      },
      "source": [
        "Even though stemming is very simple, it is quick and often gives the desired results (although try it with the other set of words above and see what you get).\n",
        "\n",
        "Before applying the stemming step, we also want to take care of the extra characters or symbols, such as periods, exclamation marks, while keeping the \"@\" and \"#\" symbols in place (since these are often used in tweets). Fortunately, nltk also has a Twitter-specific method to remove these symbols, called the __TweetTokenizer__.  We'll also load the data again to ensure we are starting from the beginning, and remove stopwords."
      ]
    },
    {
      "cell_type": "code",
      "execution_count": null,
      "metadata": {
        "id": "Q9hPPhQpzCMc"
      },
      "outputs": [],
      "source": [
        "df = pd.read_csv(data_URL)\n",
        "print(f\"df.shape: {df.shape}\")\n",
        "df.head(5)"
      ]
    },
    {
      "cell_type": "code",
      "execution_count": null,
      "metadata": {
        "id": "ICziLXo7zCMc"
      },
      "outputs": [],
      "source": [
        "from nltk.tokenize import TweetTokenizer\n",
        "tk = TweetTokenizer()\n",
        "df['tokens_raw'] = df['text'].apply(lambda x: tk.tokenize(x.lower()))"
      ]
    },
    {
      "cell_type": "code",
      "execution_count": null,
      "metadata": {
        "id": "oZkMvzo9zCMc"
      },
      "outputs": [],
      "source": [
        "import re\n",
        "from nltk.corpus import stopwords\n",
        "import nltk\n",
        "nltk.download('stopwords')\n",
        "stops = set(stopwords.words('english'))\n",
        "chars2remove = set(['.','!','/', '?', ','])\n",
        "df['tokens_raw'] = df['tokens_raw'].apply(lambda x: [w for w in x if w not in stops])\n",
        "df['tokens_raw'] = df['tokens_raw'].apply(lambda x: [w for w in x if w not in chars2remove])\n",
        "df['tokens_raw'] = df['tokens_raw'].apply(lambda x: [w for w in x if not re.match('^#', w)]) # remove hashtags\n",
        "df['tokens_raw'] = df['tokens_raw'].apply(lambda x: [w for w in x if not re.match('^http', w)]) # remove web links\n",
        "df['tokens_raw'] = df['tokens_raw'].apply(lambda x: [w for w in x if not re.match('^@', w)]) # remove web links\n",
        "\n",
        "df.head()"
      ]
    },
    {
      "cell_type": "markdown",
      "metadata": {
        "id": "1LyC0aClzCMc"
      },
      "source": [
        "As you can see above, that first step of tokenization is helpful, but did not include stemmming (as you can tell from words such as \"_fly_ ___ing___\", \"_thank_ ___s___\", and \"_sleep_ ___ing___\".  So let's apply the stemming now and see what the results look like."
      ]
    },
    {
      "cell_type": "code",
      "execution_count": null,
      "metadata": {
        "id": "kppyElt0zCMd"
      },
      "outputs": [],
      "source": [
        "df['tokens'] = df['tokens_raw'].apply(lambda x: [stemmer.stem(w) for w in x])\n",
        "df.head()"
      ]
    },
    {
      "cell_type": "markdown",
      "metadata": {
        "id": "KoPa1f1azCMd"
      },
      "source": [
        "Next, let's remove common stop words (e.g. \"_the_\", \"_in_\", etc.). In this next cell we will also remove some characters/punctuation, as well as hashtag tokens."
      ]
    },
    {
      "cell_type": "markdown",
      "metadata": {
        "id": "cGEcFaOFzCMd"
      },
      "source": [
        "Let's now recreate the same simple model that we used earlier, but now with the cleaned up tokens."
      ]
    },
    {
      "cell_type": "code",
      "execution_count": null,
      "metadata": {
        "id": "rIhBTEyHzCMd"
      },
      "outputs": [],
      "source": [
        "df_pos = df[df['sentiment'] == 'positive']\n",
        "df_neg = df[df['sentiment'] == 'negative']\n",
        "df_neu = df[df['sentiment'] == 'neutral']\n",
        "\n",
        "def create_vocab_list(tokens_column):\n",
        "    vocab = dict()\n",
        "    for tweet_tokens in tokens_column:\n",
        "        for token in tweet_tokens:\n",
        "            if token not in vocab:\n",
        "                vocab[token] = 1\n",
        "            else:\n",
        "                vocab[token] += 1\n",
        "    return vocab\n",
        "\n",
        "vocab_pos = dict(sorted(create_vocab_list(df_pos['tokens']).items(), key=lambda item: item[1], reverse=True))\n",
        "vocab_neg = dict(sorted(create_vocab_list(df_neg['tokens']).items(), key=lambda item: item[1], reverse=True))\n",
        "vocab_neu = dict(sorted(create_vocab_list(df_neu['tokens']).items(), key=lambda item: item[1], reverse=True))"
      ]
    },
    {
      "cell_type": "code",
      "execution_count": null,
      "metadata": {
        "id": "3yeG1-NrzCMd"
      },
      "outputs": [],
      "source": [
        "list(vocab_pos.items())[:10]\n"
      ]
    },
    {
      "cell_type": "code",
      "execution_count": null,
      "metadata": {
        "id": "2SW_ZcxHzCMd"
      },
      "outputs": [],
      "source": [
        "list(vocab_neg.items())[:10]"
      ]
    },
    {
      "cell_type": "code",
      "execution_count": null,
      "metadata": {
        "id": "SQDte4rqzCMd"
      },
      "outputs": [],
      "source": [
        "list(vocab_neu.items())[:10]"
      ]
    },
    {
      "cell_type": "code",
      "execution_count": null,
      "metadata": {
        "id": "4pRLzOPczCMd"
      },
      "outputs": [],
      "source": [
        "classifier_tokens = {\"positive\": list(vocab_pos.keys())[:], \"negative\": list(vocab_neg.keys())[:], \"neutral\": list(vocab_neu.keys())[:]}\n",
        "print(f\"positive tokens: {len(classifier_tokens['positive'])} \\\n",
        "      \\nnegative tokens: {len(classifier_tokens['negative'])} \\\n",
        "      \\nneutral tokens: {len(classifier_tokens['neutral'])}\")"
      ]
    },
    {
      "cell_type": "markdown",
      "metadata": {
        "id": "lFl5GfSRzCMd"
      },
      "source": [
        "***\n",
        "#### Q3\n",
        "In [Q2](#q2) you were asked about the model accuracy we found earlier, and whether we could expect it to be representative of the accuracy we'd see on future, unseen, tweets. Hopefully you realized that without a proper train-test split, we won't have a good idea. Would right now (after we've created the classifier_tokens), be a good time to create a train-test split? Why or why not?\n",
        "\n",
        "It would be a good time to create a train-test split because the model can now be trained using the classifier tokens which will increase the accraucy of the model.\n",
        "***"
      ]
    },
    {
      "cell_type": "code",
      "execution_count": null,
      "metadata": {
        "id": "5B-gGpyCzCMd"
      },
      "outputs": [],
      "source": [
        "i = 100\n",
        "print(df.iloc[i,:])\n",
        "tweet2classify = df.iloc[i,:]['tokens']\n",
        "predict_tweet_sentiment(tweet2classify, verbose=True)"
      ]
    },
    {
      "cell_type": "markdown",
      "metadata": {
        "id": "aAUKUXlmzCMe"
      },
      "source": [
        "Suprisingly, the tweet above was misclassified this time, but it was correctly classified back before we even used stemming. Let's see now how it performs on all $10k$ tweets though."
      ]
    },
    {
      "cell_type": "code",
      "execution_count": null,
      "metadata": {
        "id": "VJwY50ImzCMe"
      },
      "outputs": [],
      "source": [
        "df['predicted_sentiment'] = df['tokens'].apply(lambda x: predict_tweet_sentiment(x))\n",
        "df[['sentiment','predicted_sentiment','text', 'tokens']].head(10)"
      ]
    },
    {
      "cell_type": "markdown",
      "metadata": {
        "id": "63ai8jzQzCMe"
      },
      "source": [
        "Let's see if that misclassification was just a fluke, and whether this model with stemming has higher accuracy than the earlier model."
      ]
    },
    {
      "cell_type": "code",
      "execution_count": null,
      "metadata": {
        "id": "kBQyvPKBzCMe"
      },
      "outputs": [],
      "source": [
        "confusion_matrix(df['sentiment'], df['predicted_sentiment'])\n",
        "disp = ConfusionMatrixDisplay(confusion_matrix(df['sentiment'], df['predicted_sentiment']), display_labels=['negative', 'neutral', 'positive'])\n",
        "disp.plot()\n",
        "mod_accuracy = accuracy_score(df['sentiment'], df['predicted_sentiment'])\n",
        "print(f\"model accuracy: {mod_accuracy*100:.2f}%\")"
      ]
    },
    {
      "cell_type": "markdown",
      "metadata": {
        "id": "GJROi6-SzCMe"
      },
      "source": [
        "These results are actually considerably worse than what we saw before. It's not because of the stemming though, it's because even after removing stop words, there are still many words that frequently appear regardless of the sentiment. In the first, simple approach, we removed frequently occurring words like these, but this time we didn't. If we did, then tokens such as \"__flight__\", or \"__hav__\", would also be removed, and we'd see much higher accuracy."
      ]
    },
    {
      "cell_type": "markdown",
      "metadata": {
        "id": "oXRObcD6zCMe"
      },
      "source": [
        "### 5: Tokenization via Lemmatization\n",
        "\n",
        "Let's now try using Lemmatization. We'll again start with a clean version of the data and use the TweetTokenizer."
      ]
    },
    {
      "cell_type": "code",
      "execution_count": null,
      "metadata": {
        "id": "4HoaV0HRzCMe"
      },
      "outputs": [],
      "source": [
        "df = pd.read_csv(data_URL)\n",
        "df['tokens_raw'] = df['text'].apply(lambda x: tk.tokenize(x.lower()))\n",
        "print(f\"df.shape: {df.shape}\")\n",
        "df['tokens_raw'] = df['tokens_raw'].apply(lambda x: [w for w in x if w not in stops])\n",
        "df['tokens_raw'] = df['tokens_raw'].apply(lambda x: [w for w in x if w not in chars2remove])\n",
        "df['tokens_raw'] = df['tokens_raw'].apply(lambda x: [w for w in x if not re.match('^#', w)]) # remove hashtags\n",
        "df['tokens_raw'] = df['tokens_raw'].apply(lambda x: [w for w in x if not re.match('^http', w)]) # remove web links\n",
        "df['tokens_raw'] = df['tokens_raw'].apply(lambda x: [w for w in x if not re.match('^@', w)]) # remove web links\n",
        "df.head()"
      ]
    },
    {
      "cell_type": "markdown",
      "metadata": {
        "id": "GEtBfPdBzCMe"
      },
      "source": [
        "\n",
        "Since Lemmatization can convert words such as \"_ran_\" into \"_run_\", it requires knowledge of the English language. Because of that, you may or may not need to first download a dictionary of sorts. To do this, uncomment the following code cell and run it."
      ]
    },
    {
      "cell_type": "code",
      "execution_count": null,
      "metadata": {
        "id": "A7ruZmkczCMe"
      },
      "outputs": [],
      "source": [
        "import nltk\n",
        "nltk.download('wordnet')\n",
        "nltk.download('omw-1.4')"
      ]
    },
    {
      "cell_type": "markdown",
      "metadata": {
        "id": "6pghQRg3zCMf"
      },
      "source": [
        "If the dictionary is available, then the following code will run correctly. If the following cell encounters an error, then uncomment the above cell and run it.\n",
        "\n",
        "Assuming the dictionary is available, then let's go ahead and carry out the Lemmatization. Note that there are much better ways to do this but that we want to use a simple lemmatizer. For example, some lemmatizers also utilize a model internally to predict the part-of-speech for each word, since whether the word is a noun, adjective, verb, etc. will affect how lemmatization is done. Since we want to keep things simple here, and focus only on the lemmatization step, we'll assume every word is the same part of speech. Note that this is not by any means ideal (try to identify the incorrectly lemmatized token in the five tweets printed out below). In practice we would utilize a 'smarter' lemmatizer ."
      ]
    },
    {
      "cell_type": "code",
      "execution_count": null,
      "metadata": {
        "id": "_nkPRPgZzCMf"
      },
      "outputs": [],
      "source": [
        "from nltk.stem import WordNetLemmatizer\n",
        "lemmatizer = WordNetLemmatizer()\n",
        "df['tokens'] = df['tokens_raw'].apply(lambda x: [lemmatizer.lemmatize(w, pos=\"v\") for w in x])\n",
        "df.head()"
      ]
    },
    {
      "cell_type": "markdown",
      "metadata": {
        "id": "3G5L2YuDzCMf"
      },
      "source": [
        "Let's now recreate the same simple model that we used earlier, but now with the cleaned up tokens."
      ]
    },
    {
      "cell_type": "code",
      "execution_count": null,
      "metadata": {
        "id": "gQ7f1eCHzCMf"
      },
      "outputs": [],
      "source": [
        "df_pos = df[df['sentiment'] == 'positive']\n",
        "df_neg = df[df['sentiment'] == 'negative']\n",
        "df_neu = df[df['sentiment'] == 'neutral']\n",
        "\n",
        "def create_vocab_list(tokens_column):\n",
        "    vocab = dict()\n",
        "    for tweet_tokens in tokens_column:\n",
        "        for token in tweet_tokens:\n",
        "            if token not in vocab:\n",
        "                vocab[token] = 1\n",
        "            else:\n",
        "                vocab[token] += 1\n",
        "    return vocab\n",
        "\n",
        "vocab_pos = dict(sorted(create_vocab_list(df_pos['tokens']).items(), key=lambda item: item[1], reverse=True))\n",
        "vocab_neg = dict(sorted(create_vocab_list(df_neg['tokens']).items(), key=lambda item: item[1], reverse=True))\n",
        "vocab_neu = dict(sorted(create_vocab_list(df_neu['tokens']).items(), key=lambda item: item[1], reverse=True))\n",
        "\n",
        "classifier_tokens = {\"positive\": list(vocab_pos.keys())[:], \"negative\": list(vocab_neg.keys())[:], \"neutral\": list(vocab_neu.keys())[:]}\n",
        "print(f\"positive tokens: {len(classifier_tokens['positive'])} \\\n",
        "      \\nnegative tokens: {len(classifier_tokens['negative'])} \\\n",
        "      \\nneutral tokens: {len(classifier_tokens['neutral'])}\")"
      ]
    },
    {
      "cell_type": "markdown",
      "metadata": {
        "id": "Fj2bQYJJzCMf"
      },
      "source": [
        "And let's try making a prediction for a specific tweet."
      ]
    },
    {
      "cell_type": "code",
      "execution_count": null,
      "metadata": {
        "id": "-wsIgTw-zCMf"
      },
      "outputs": [],
      "source": [
        "i = 100\n",
        "print(df.iloc[i,:])\n",
        "tweet2classify = df.iloc[i,:]['tokens']\n",
        "predict_tweet_sentiment(tweet2classify, verbose=True)"
      ]
    },
    {
      "cell_type": "markdown",
      "metadata": {
        "id": "sVU3vM4rzCMf"
      },
      "source": [
        "Again, it is misclassified, but let's see whether the Lemmatization at performs better than the Stemming."
      ]
    },
    {
      "cell_type": "code",
      "execution_count": null,
      "metadata": {
        "id": "7X_glzr5zCMf"
      },
      "outputs": [],
      "source": [
        "df['predicted_sentiment'] = df['tokens'].apply(lambda x: predict_tweet_sentiment(x))\n",
        "df[['sentiment','predicted_sentiment','text', 'tokens']].head(10)"
      ]
    },
    {
      "cell_type": "code",
      "execution_count": null,
      "metadata": {
        "id": "wrpI94JwzCMg"
      },
      "outputs": [],
      "source": [
        "confusion_matrix(df['sentiment'], df['predicted_sentiment'])\n",
        "disp = ConfusionMatrixDisplay(confusion_matrix(df['sentiment'], df['predicted_sentiment']), display_labels=['negative', 'neutral', 'positive'])\n",
        "disp.plot()\n",
        "mod_accuracy = accuracy_score(df['sentiment'], df['predicted_sentiment'])\n",
        "print(f\"model accuracy: {mod_accuracy*100:.2f}%\")"
      ]
    },
    {
      "cell_type": "markdown",
      "metadata": {
        "id": "KqypBmq9zCMg"
      },
      "source": [
        "***\n",
        "#### Q4\n",
        "Even with the Stemming/Lemmatization, is it possible to use a proper machine learning model? For example, could we use linear regression, or even random forest? Why or why not? Explain by stating what the input to the model would be (or would need to be).\n",
        "\n",
        "To use linear regression or random forest you would need to convert the text into numerical values because they cannot handle text like neural networks can, but it would be possible.\n",
        "***"
      ]
    },
    {
      "cell_type": "markdown",
      "metadata": {
        "id": "Cui5eLg7zCMg"
      },
      "source": [
        "### 6: Vectorization\n",
        "\n",
        "To convert the tokens to numerical data we'll now use a form of vectorization. Let's first remove the previous predictions and then create a new column with the tokens joined together. We need to do this because the vectorization method works on the full text of each observation (not the list of tokens that we have been using up until now)."
      ]
    },
    {
      "cell_type": "code",
      "execution_count": null,
      "metadata": {
        "id": "ywWFpKQ8zCMg"
      },
      "outputs": [],
      "source": [
        "if 'predicted_sentiment' in df.columns:\n",
        "    print(\"removing column, predicted_sentiment, from df\")\n",
        "    df.drop('predicted_sentiment', axis=1, inplace=True)\n",
        "\n",
        "df['textclean'] = df['tokens'].apply(lambda x: ' '.join(x))\n",
        "df.head()"
      ]
    },
    {
      "cell_type": "markdown",
      "metadata": {
        "id": "p7S-IoJWzCMg"
      },
      "source": [
        "Let's also use a proper train-test split in order to get a better idea of how the model will perform on unseen data (we can still compare the training split to the results above to see how this approach works). We could use sklearn's train_test_split() function for this, but we'll do it manually here as a quick review."
      ]
    },
    {
      "cell_type": "code",
      "execution_count": null,
      "metadata": {
        "id": "VcT2ufIpzCMh"
      },
      "outputs": [],
      "source": [
        "import random\n",
        "random.seed(42)\n",
        "\n",
        "df_full = df.copy()\n",
        "assert df_full.shape[0] == 10000\n",
        "\n",
        "indices = list(range(df_full.shape[0]))\n",
        "\n",
        "random.shuffle(indices)\n",
        "\n",
        "train_indices = indices[:8500]\n",
        "test_indices = indices[8500:]\n",
        "\n",
        "# df will be the in-sample training dataset\n",
        "df = df_full.iloc[train_indices,:].copy()\n",
        "print(f\"df.shape: {df.shape}\")\n",
        "\n",
        "# df_test will be the out-of-sample validation dataset\n",
        "df_test = df_full.iloc[test_indices,:].copy()\n",
        "print(f\"df_test.shape: {df_test.shape}\")\n",
        "df_test.head()"
      ]
    },
    {
      "cell_type": "markdown",
      "metadata": {
        "id": "df8LmqqgzCMh"
      },
      "source": [
        "Now we will load the term-frequency inverse-document-frequency vectorizer from sklearn, `TfidfVectorizer`, to convert each tweet into a vector. We'll go ahead and call the resulting vectorized data, `X`, or `X_train` since it is only the training dataset. As with conventional statistical models, \"_X_\" represents the set of predictors, or independent variables.\n",
        "\n",
        "Also, note that `TfidfVectorizer` is a powerful text processing object. It has the ability to remove stop words, strip symbols, and do much of the work that our manual tokenization did. As such, we could easily use the original tweet text here, but we'll go ahead and continue with our manually tokenized data in the column, `textclean`.\n",
        "<a id=\"changetraining\"></a>"
      ]
    },
    {
      "cell_type": "code",
      "execution_count": null,
      "metadata": {
        "id": "KrOoJxmhzCMh"
      },
      "outputs": [],
      "source": [
        "from sklearn.feature_extraction.text import TfidfVectorizer\n",
        "tfidf_vectorizer = TfidfVectorizer()\n",
        "X_train = tfidf_vectorizer.fit_transform(df['textclean']).toarray()\n",
        "#X_train = tfidf_vectorizer.fit_transform(df['text']).toarray() # original tweet text (without our manual tokenization)\n",
        "\n",
        "print(f\"X_train.shape = {X_train.shape}\")\n",
        "type(X_train)"
      ]
    },
    {
      "cell_type": "markdown",
      "metadata": {
        "id": "b_7JE9s7zCMh"
      },
      "source": [
        "Note that the data type for `X_train` is no longer a pandas data frame. Instead, it is a numpy ndarray. We will talk much more about the python module, numpy, and its data types in the coming week. For now, let's just think of it a more efficently implemented object than a pandas data frame (e.g. smaller memory footprint), and one that we can think of a more of a matrix than a table of data. This can be seen by how we can easily index into `X_train` without the need for methods such as `iloc` or `loc`. Here we will look at the first 5 rows and 10 columns."
      ]
    },
    {
      "cell_type": "code",
      "execution_count": null,
      "metadata": {
        "id": "8viFNeA_zCMh"
      },
      "outputs": [],
      "source": [
        "X_train[:5, :10]"
      ]
    },
    {
      "cell_type": "markdown",
      "metadata": {
        "id": "Cc2T34NKzCMh"
      },
      "source": [
        "Looking at the output above, and back at the dimensions of `X_train` two cells back, what does this tell you about the data (aside from the size of the training data)? Specifically, what do the number of columns represent?\n",
        "\n",
        "If you're not sure, then look at the output of the following cell. We are looking at the first row of the training dataset, `X_train` again, but looking only at the non-zero values. These are the term-frequency inverse-document-frequency values for this tweet."
      ]
    },
    {
      "cell_type": "code",
      "execution_count": null,
      "metadata": {
        "id": "Jl82nlz1zCMh"
      },
      "outputs": [],
      "source": [
        "obs1 = list(X_train[0,:])\n",
        "for i, tfidf_val in enumerate(obs1):\n",
        "    if tfidf_val > 0:\n",
        "        print(f\"obs1 token at column i={i}, has a non-zero TF-IDF value: {tfidf_val}\")"
      ]
    },
    {
      "cell_type": "markdown",
      "metadata": {
        "id": "9iYOSBGZzCMh"
      },
      "source": [
        "If we wanted to, we could retrieve the token associated with each column of `X_train` by using the `tfidf_vectorizer`. Let's do that now just to see if we can try to recover the tweet. You'll notice that we can't recover the ordering of the words, but rather just the set of words that were in the tweet."
      ]
    },
    {
      "cell_type": "code",
      "execution_count": null,
      "metadata": {
        "id": "A4oBdn4PzCMh"
      },
      "outputs": [],
      "source": [
        "obs1 = list(X_train[0,:])\n",
        "for i, tfidf_val in enumerate(obs1):\n",
        "    if tfidf_val > 0:\n",
        "        print(f\"obs1 has a non-zero TF-IDF value: {tfidf_val} at col i={i} (associated with token: {tfidf_vectorizer.get_feature_names_out()[i]})\")"
      ]
    },
    {
      "cell_type": "markdown",
      "metadata": {
        "id": "5UJ-CNWzzCMh"
      },
      "source": [
        "We can verify this by going back to our training dataset, `df`, and checking what the first observation was. Looking at the output below. As stated above, we see that the same words are present in the data but not necessarily in the same order. Disregarding word order when vectorizing text data is sometimes (informally) referred to as a \"[__bag-of-words__](https://en.wikipedia.org/wiki/Bag-of-words_model)\" approach. Often times, \"__bag-of-words__\" suggests that just the counts (i.e. __term frequency__) is used, rather than what we are using here, __term-frequency inverse-document-frequency__. Nonetheless, the underlying idea that words frequency is accounted for, but word order is neglected, is an important observation to make here."
      ]
    },
    {
      "cell_type": "code",
      "execution_count": null,
      "metadata": {
        "id": "s7VpB5j4zCMh"
      },
      "outputs": [],
      "source": [
        "df.iloc[0,:]"
      ]
    },
    {
      "cell_type": "markdown",
      "metadata": {
        "id": "lt4SvaLCzCMh"
      },
      "source": [
        "A good default model to start with that does not require too much fine tuning, and generally performs well is a [__Random Forest__](https://en.wikipedia.org/wiki/Random_forest) model. We won't dig into the details of how an RF model works exactly, but so long as we know that it creates many decision trees on random subsets of the data, then you've got a decent idea. Before doing so, we also need to convert the labels (i.e. `df.sentiment`) to a numpy data type. We'll quickly do that now and look at the first few observations."
      ]
    },
    {
      "cell_type": "code",
      "execution_count": null,
      "metadata": {
        "id": "HbwWNzHUzCMh"
      },
      "outputs": [],
      "source": [
        "y_train = df.sentiment.to_numpy()\n",
        "y_train[:10]"
      ]
    },
    {
      "cell_type": "markdown",
      "metadata": {
        "id": "7tYHePUvzCMh"
      },
      "source": [
        "We'll not fit the random forest model on the training data and check the performance."
      ]
    },
    {
      "cell_type": "code",
      "execution_count": null,
      "metadata": {
        "id": "WXOZG-tqzCMi"
      },
      "outputs": [],
      "source": [
        "from sklearn.ensemble import RandomForestClassifier\n",
        "model = RandomForestClassifier(n_estimators=200)\n",
        "model = model.fit(X_train, y_train)\n",
        "\n",
        "predictions_train = model.predict(X_train)\n",
        "predictions_train\n",
        "\n",
        "disp = ConfusionMatrixDisplay(confusion_matrix(df['sentiment'], predictions_train), display_labels=['negative', 'neutral', 'positive'])\n",
        "disp.plot()\n",
        "print(f\"accuracy (on X_train): {accuracy_score(df['sentiment'], predictions_train):.4f}\")"
      ]
    },
    {
      "cell_type": "markdown",
      "metadata": {
        "id": "A-tfb8zczCMi"
      },
      "source": [
        "Wow! Accuracy of ~99% is much better than what we saw with our ad hoc model. Let's check and see how well the model does on the test dataset now.\n",
        "\n",
        "Notice that we are using `tfidf_vectorizer.transform()` now, and not the same method we used before on the training dataset, which was `tfidf_vectorizer.fit_transform()`. The `fit_transform` method creates the vocabulary from the training data. The `transform` method will use the vocabulary that was previously made, but if it encounters a token in the test data that was never seen in the training data, then it will simply ignore it. This is one reason why making sure that training data for models is regularly updated.\n",
        "<a id=\"changetest\"></a>"
      ]
    },
    {
      "cell_type": "code",
      "execution_count": null,
      "metadata": {
        "id": "gYDhdBzBzCMi"
      },
      "outputs": [],
      "source": [
        "df_test['textclean'] = df_test['tokens'].apply(lambda x: ' '.join(x))\n",
        "#X_test = tfidf_vectorizer.transform(df_test['textclean']).toarray()\n",
        "X_test = tfidf_vectorizer.transform(df_test['text']).toarray() # use original tweet text (without our tokenization)\n",
        "X_test.shape"
      ]
    },
    {
      "cell_type": "code",
      "execution_count": null,
      "metadata": {
        "id": "Mx_2aQK8zCMi"
      },
      "outputs": [],
      "source": [
        "predictions_test = model.predict(X_test)\n",
        "disp = ConfusionMatrixDisplay(confusion_matrix(df_test['sentiment'], predictions_test), display_labels=['negative', 'neutral', 'positive'])\n",
        "disp.plot()\n",
        "print(f\"accuracy (on X_test): {accuracy_score(df_test['sentiment'], predictions_test):.4f}\")"
      ]
    },
    {
      "cell_type": "markdown",
      "metadata": {
        "id": "jVXQpm1CzCMi"
      },
      "source": [
        "Okay, the model performance on the test data is not nearly as good as the performance on the training dataset. That's expected to some degree.\n",
        "\n",
        "We may be able to improve it slightly by finding the optimal value of one of the random forest hyperparameters, e.g. `n_estimators`. However, one of the strengths of random forest is not it does a good job of overfitting. Knowing that, how do you think smaller values of `n_estimators` will affect accuracy on the test data? How do you think larger values will affect it? Try a few different values of `n_estimators`, both larger and smaller than the default of `n_estimators=100`, to see what happens.\n",
        "\n",
        "Below we go ahead and try many different hyperparameter values (for n_estimators) to see what the best value is. As can be seen, there is not an immediately obvious choice for the best value of the n_estimators hyperparameter, which is exactly why random forest is such a nice to model to use at the beginning. Admittedly, an RF model might not perform as well as some other machine learning models, but it is reliable and does a decent job at balancing the Bias-Variance Tradeoff right away without a lot of tuning."
      ]
    },
    {
      "cell_type": "code",
      "execution_count": null,
      "metadata": {
        "id": "bq8IGa7-zCMi"
      },
      "outputs": [],
      "source": [
        "from sklearn.metrics import log_loss\n",
        "\n",
        "# A function to create and fit a RF with a specific number of trees\n",
        "def fitRFModel(hyperparam_value):\n",
        "    rf_model = RandomForestClassifier(n_estimators=hyperparam_value, random_state=5)\n",
        "    rf_model.fit(X_train, y_train)\n",
        "    y_train_pred_prob = rf_model.predict_proba(X_train)\n",
        "    y_train_pred = rf_model.predict(X_train)\n",
        "    y_val_pred_prob = rf_model.predict_proba(X_test)\n",
        "    y_val_pred = rf_model.predict(X_test)\n",
        "    train_loss = log_loss(df['sentiment'], y_train_pred_prob, labels=['negative', 'neutral', 'positive'])\n",
        "    train_acc = accuracy_score(df['sentiment'], y_train_pred)\n",
        "    val_loss = log_loss(df_test['sentiment'], y_val_pred_prob, labels=['negative', 'neutral', 'positive'])\n",
        "    val_acc = accuracy_score(df_test['sentiment'], y_val_pred)\n",
        "    return (train_loss, val_loss, train_acc, val_acc)\n",
        "\n",
        "hyp_param_vals = list(range(5, 206, 50)) # possible values for n_estimators\n",
        "metrics = []\n",
        "for hp in hyp_param_vals:\n",
        "    metrics.append(fitRFModel(hp))"
      ]
    },
    {
      "cell_type": "code",
      "execution_count": null,
      "metadata": {
        "id": "IZwvWf--zCMi"
      },
      "outputs": [],
      "source": [
        "import matplotlib.pyplot as plt\n",
        "fig = plt.figure(figsize=(6, 3))\n",
        "ax = fig.add_axes([0, 0, 1, 1]) #.1, 0.1, 0.8, 0.8]) # main axes\n",
        "ax.plot(hyp_param_vals, [metric[1] for metric in metrics], '--ro') # test loss\n",
        "ax.plot(hyp_param_vals, [metric[0] for metric in metrics], '--bo') # training loss\n",
        "ax.legend([\"Test Loss\", \"Train Loss\"], loc=1)\n",
        "ax.set_xticks(hyp_param_vals)\n",
        "ax.set(xlabel=\"n_estimators\", ylabel=\"loss (lower is better)\")\n",
        "plt.show()"
      ]
    },
    {
      "cell_type": "code",
      "execution_count": null,
      "metadata": {
        "id": "yVh1WhXozCMi"
      },
      "outputs": [],
      "source": [
        "fig = plt.figure(figsize=(6, 3))\n",
        "ax = fig.add_axes([0, 0, 1, 1]) #.1, 0.1, 0.8, 0.8]) # main axes\n",
        "ax.plot(hyp_param_vals, [metric[3] for metric in metrics], '--ro') # test accuracy\n",
        "ax.plot(hyp_param_vals, [metric[2] for metric in metrics], '--bo') # training accuracy\n",
        "ax.legend([\"Test Accuracy\", \"Train Accuracy\"], loc=4)\n",
        "ax.set_xticks(hyp_param_vals)\n",
        "ax.set(xlabel=\"n_estimators\", ylabel=\"accuracy (higher is better)\")\n",
        "plt.show()"
      ]
    },
    {
      "cell_type": "markdown",
      "metadata": {
        "id": "ybCo7-5ezCMi"
      },
      "source": [
        "***\n",
        "#### Q5\n",
        "What happens if we don't use the the `textclean` column (which was based on the lemmatized tokens and stopword removal), but instead use the original `text` column? Remember that you need to change this not just for the [training data](#changetraining), but also for the [test data](#changetest). Then, we want to know specifically...\n",
        "\n",
        "Q5a: How many more (or fewer) input features are there when using TFIDF on the original (un-lemmatized) `text` column?\n",
        "\n",
        "There would be way more input features because the stopwords would not be removed and all versions of a root word would exist separately like run and running. It would as a result take much longer to train.\n",
        "\n",
        "Q5b: Is the accuracy better or worse when using the original `text` column?\n",
        "\n",
        "The accuracy is worse becasue textclean filters out useless words like the, to, and etc. and converts words to their root version which makes it quicker and easier for the model to guess.\n",
        "***"
      ]
    },
    {
      "cell_type": "markdown",
      "metadata": {
        "id": "kGkkqJ1XzCMi"
      },
      "source": []
    }
  ],
  "metadata": {
    "kernelspec": {
      "display_name": "py313",
      "language": "python",
      "name": "python3"
    },
    "language_info": {
      "codemirror_mode": {
        "name": "ipython",
        "version": 3
      },
      "file_extension": ".py",
      "mimetype": "text/x-python",
      "name": "python",
      "nbconvert_exporter": "python",
      "pygments_lexer": "ipython3",
      "version": "3.13.0"
    },
    "orig_nbformat": 4,
    "colab": {
      "provenance": [],
      "include_colab_link": true
    }
  },
  "nbformat": 4,
  "nbformat_minor": 0
}