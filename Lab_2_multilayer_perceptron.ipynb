{
  "cells": [
    {
      "cell_type": "markdown",
      "metadata": {
        "id": "view-in-github",
        "colab_type": "text"
      },
      "source": [
        "<a href=\"https://colab.research.google.com/github/vlassner/DSML_4220_Deep_Learning/blob/main/Lab_2_multilayer_perceptron.ipynb\" target=\"_parent\"><img src=\"https://colab.research.google.com/assets/colab-badge.svg\" alt=\"Open In Colab\"/></a>"
      ]
    },
    {
      "cell_type": "markdown",
      "metadata": {
        "id": "syum2GeKuyBv"
      },
      "source": [
        "# Lab 2: Creating a Multi-layer Perceptron for Classifying Yelp Reviews\n",
        "\n",
        "[![Open In Colab](https://colab.research.google.com/assets/colab-badge.svg)](https://colab.research.google.com/github/sgeinitz/DSML4220/blob/main/lab2_mlp_for_yelp_reviews.ipynb)\n",
        "\n",
        "[![Kaggle](https://kaggle.com/static/images/open-in-kaggle.svg)](https://kaggle.com/kernels/welcome?src=https://github.com/sgeinitz/DSML4220/blob/main/lab2_mlp_for_yelp_reviews.ipynb)\n",
        "\n",
        "In this notebook we'll build off of a simple perceptron model we have seen and to create a PyTorch multilayer perceptron model. The dataset is similar to our airline tweets but larger in two ways. One, each observataion may have much more than 140 words. Two, there are now more than 50,000 observations.\n",
        "\n",
        "Note that the code and data in this notebook is derived from [this notebook](https://github.com/delip/PyTorchNLPBook/blob/master/chapters/chapter_3/3_5_Classifying_Yelp_Review_Sentiment.ipynb) in the [repository for the book, NLP with PyTorch](https://github.com/delip/PyTorchNLPBook).\n",
        "\n",
        "\n",
        "### Lab 2 Assignment/Task\n",
        "Your task for this lab is to add another layer to the model and to try to improve the performance. You will save your completed notebook (on Kaggle) and submit the link in Canvas. Note that although the only thing you need to do is add another layer, you can/should also try experimenting with some hyperparameters such as the learning rate and batch size.\n",
        "\n",
        "It is recommended that you run the entire notebook and get a sense of it all before making any modifications."
      ]
    },
    {
      "cell_type": "markdown",
      "metadata": {
        "id": "FNf033jzuyBx"
      },
      "source": [
        "## Imports"
      ]
    },
    {
      "cell_type": "code",
      "execution_count": null,
      "metadata": {
        "execution": {
          "iopub.execute_input": "2025-02-06T02:32:58.530736Z",
          "iopub.status.busy": "2025-02-06T02:32:58.530462Z",
          "iopub.status.idle": "2025-02-06T02:33:04.189406Z",
          "shell.execute_reply": "2025-02-06T02:33:04.188571Z",
          "shell.execute_reply.started": "2025-02-06T02:32:58.530678Z"
        },
        "id": "QLdP8PiOuyBx",
        "trusted": true
      },
      "outputs": [],
      "source": [
        "from argparse import Namespace\n",
        "from collections import Counter\n",
        "from nltk.corpus import stopwords\n",
        "import json\n",
        "import os\n",
        "import re\n",
        "import string\n",
        "\n",
        "import numpy as np\n",
        "import pandas as pd\n",
        "import torch\n",
        "import torch.nn as nn\n",
        "import torch.nn.functional as F\n",
        "import torch.optim as optim\n",
        "from torch.utils.data import Dataset, DataLoader\n",
        "import matplotlib\n",
        "import matplotlib.pyplot as plt"
      ]
    },
    {
      "cell_type": "markdown",
      "metadata": {
        "id": "kyF9uRIpuyBz"
      },
      "source": [
        "## Data Vectorization classes\n",
        "\n",
        "### The Vocabulary"
      ]
    },
    {
      "cell_type": "code",
      "execution_count": null,
      "metadata": {
        "code_folding": [],
        "execution": {
          "iopub.execute_input": "2025-02-06T02:33:08.869450Z",
          "iopub.status.busy": "2025-02-06T02:33:08.869130Z",
          "iopub.status.idle": "2025-02-06T02:33:08.877815Z",
          "shell.execute_reply": "2025-02-06T02:33:08.876814Z",
          "shell.execute_reply.started": "2025-02-06T02:33:08.869421Z"
        },
        "id": "bpyc_yw4uyBz",
        "trusted": true
      },
      "outputs": [],
      "source": [
        "class Vocabulary(object):\n",
        "    \"\"\"Class to process text and extract vocabulary for mapping\"\"\"\n",
        "\n",
        "    def __init__(self, token_to_idx=None, add_unk=True, unk_token=\"<UNK>\"):\n",
        "        \"\"\"\n",
        "        Args:\n",
        "            token_to_idx (dict): a pre-existing map of tokens to indices\n",
        "            add_unk (bool): a flag that indicates whether to add the UNK token\n",
        "            unk_token (str): the UNK token to add into the Vocabulary\n",
        "        \"\"\"\n",
        "\n",
        "        if token_to_idx is None:\n",
        "            token_to_idx = {}\n",
        "        self._token_to_idx = token_to_idx\n",
        "\n",
        "        self._idx_to_token = {idx: token\n",
        "                              for token, idx in self._token_to_idx.items()}\n",
        "\n",
        "        self._add_unk = add_unk\n",
        "        self._unk_token = unk_token\n",
        "\n",
        "        self.unk_index = -1\n",
        "        if add_unk:\n",
        "            self.unk_index = self.add_token(unk_token)\n",
        "\n",
        "\n",
        "    def to_serializable(self):\n",
        "        \"\"\" returns a dictionary that can be serialized \"\"\"\n",
        "        return {'token_to_idx': self._token_to_idx,\n",
        "                'add_unk': self._add_unk,\n",
        "                'unk_token': self._unk_token}\n",
        "\n",
        "    @classmethod\n",
        "    def from_serializable(cls, contents):\n",
        "        \"\"\" instantiates the Vocabulary from a serialized dictionary \"\"\"\n",
        "        return cls(**contents)\n",
        "\n",
        "    def add_token(self, token):\n",
        "        \"\"\"Update mapping dicts based on the token.\n",
        "\n",
        "        Args:\n",
        "            token (str): the item to add into the Vocabulary\n",
        "        Returns:\n",
        "            index (int): the integer corresponding to the token\n",
        "        \"\"\"\n",
        "        if token in self._token_to_idx:\n",
        "            index = self._token_to_idx[token]\n",
        "        else:\n",
        "            index = len(self._token_to_idx)\n",
        "            self._token_to_idx[token] = index\n",
        "            self._idx_to_token[index] = token\n",
        "        return index\n",
        "\n",
        "    def add_many(self, tokens):\n",
        "        \"\"\"Add a list of tokens into the Vocabulary\n",
        "\n",
        "        Args:\n",
        "            tokens (list): a list of string tokens\n",
        "        Returns:\n",
        "            indices (list): a list of indices corresponding to the tokens\n",
        "        \"\"\"\n",
        "        return [self.add_token(token) for token in tokens]\n",
        "\n",
        "    def lookup_token(self, token):\n",
        "        \"\"\"Retrieve the index associated with the token\n",
        "          or the UNK index if token isn't present.\n",
        "\n",
        "        Args:\n",
        "            token (str): the token to look up\n",
        "        Returns:\n",
        "            index (int): the index corresponding to the token\n",
        "        Notes:\n",
        "            `unk_index` needs to be >=0 (having been added into the Vocabulary)\n",
        "              for the UNK functionality\n",
        "        \"\"\"\n",
        "        if self.unk_index >= 0:\n",
        "            return self._token_to_idx.get(token, self.unk_index)\n",
        "        else:\n",
        "            return self._token_to_idx[token]\n",
        "\n",
        "    def lookup_index(self, index):\n",
        "        \"\"\"Return the token associated with the index\n",
        "\n",
        "        Args:\n",
        "            index (int): the index to look up\n",
        "        Returns:\n",
        "            token (str): the token corresponding to the index\n",
        "        Raises:\n",
        "            KeyError: if the index is not in the Vocabulary\n",
        "        \"\"\"\n",
        "        if index not in self._idx_to_token:\n",
        "            raise KeyError(\"the index (%d) is not in the Vocabulary\" % index)\n",
        "        return self._idx_to_token[index]\n",
        "\n",
        "    def __str__(self):\n",
        "        return \"<Vocabulary(size=%d)>\" % len(self)\n",
        "\n",
        "    def __len__(self):\n",
        "        return len(self._token_to_idx)"
      ]
    },
    {
      "cell_type": "markdown",
      "metadata": {
        "id": "EihRBWjbuyB0"
      },
      "source": [
        "### The Vectorizer"
      ]
    },
    {
      "cell_type": "code",
      "execution_count": null,
      "metadata": {
        "code_folding": [],
        "execution": {
          "iopub.execute_input": "2025-02-06T02:33:15.605031Z",
          "iopub.status.busy": "2025-02-06T02:33:15.604693Z",
          "iopub.status.idle": "2025-02-06T02:33:15.612986Z",
          "shell.execute_reply": "2025-02-06T02:33:15.611967Z",
          "shell.execute_reply.started": "2025-02-06T02:33:15.605006Z"
        },
        "id": "xw6VEdJQuyB1",
        "trusted": true
      },
      "outputs": [],
      "source": [
        "class ReviewVectorizer(object):\n",
        "    \"\"\" The Vectorizer which coordinates the Vocabularies and puts them to use\"\"\"\n",
        "    def __init__(self, review_vocab, rating_vocab):\n",
        "        \"\"\"\n",
        "        Args:\n",
        "            review_vocab (Vocabulary): maps words to integers\n",
        "            rating_vocab (Vocabulary): maps class labels to integers\n",
        "        \"\"\"\n",
        "        self.review_vocab = review_vocab\n",
        "        self.rating_vocab = rating_vocab\n",
        "\n",
        "    def vectorize(self, review):\n",
        "        \"\"\"Create a collapsed one-hit vector for the review\n",
        "\n",
        "        Args:\n",
        "            review (str): the review\n",
        "        Returns:\n",
        "            one_hot (np.ndarray): the collapsed one-hot encoding\n",
        "        \"\"\"\n",
        "        one_hot = np.zeros(len(self.review_vocab), dtype=np.float32)\n",
        "\n",
        "        for token in review.split(\" \"):\n",
        "            if token not in string.punctuation:\n",
        "                one_hot[self.review_vocab.lookup_token(token)] = 1\n",
        "\n",
        "        return one_hot\n",
        "\n",
        "    @classmethod\n",
        "    def from_dataframe(cls, review_df, cutoff=20):\n",
        "        \"\"\"Instantiate the vectorizer from the dataset dataframe\n",
        "\n",
        "        Args:\n",
        "            review_df (pandas.DataFrame): the review dataset\n",
        "            cutoff (int): the parameter for frequency-based filtering\n",
        "        Returns:\n",
        "            an instance of the ReviewVectorizer\n",
        "        \"\"\"\n",
        "        review_vocab = Vocabulary(add_unk=True)\n",
        "        rating_vocab = Vocabulary(add_unk=False)\n",
        "        stop_words = set(stopwords.words('english'))\n",
        "\n",
        "        # Add ratings\n",
        "        for rating in sorted(set(review_df.rating)):\n",
        "            rating_vocab.add_token(rating)\n",
        "\n",
        "        # Add top words if count > provided count\n",
        "        word_counts = Counter()\n",
        "        for review in review_df.review:\n",
        "            for word in review.split(\" \"):\n",
        "                if word not in string.punctuation:\n",
        "                    word_counts[word] += 1\n",
        "\n",
        "        for word, count in word_counts.items():\n",
        "            if count > cutoff and word not in stop_words:\n",
        "                review_vocab.add_token(word)\n",
        "\n",
        "        return cls(review_vocab, rating_vocab)\n",
        "\n",
        "    @classmethod\n",
        "    def from_serializable(cls, contents):\n",
        "        \"\"\"Instantiate a ReviewVectorizer from a serializable dictionary\n",
        "\n",
        "        Args:\n",
        "            contents (dict): the serializable dictionary\n",
        "        Returns:\n",
        "            an instance of the ReviewVectorizer class\n",
        "        \"\"\"\n",
        "        review_vocab = Vocabulary.from_serializable(contents['review_vocab'])\n",
        "        rating_vocab =  Vocabulary.from_serializable(contents['rating_vocab'])\n",
        "\n",
        "        return cls(review_vocab=review_vocab, rating_vocab=rating_vocab)\n",
        "\n",
        "    def to_serializable(self):\n",
        "        \"\"\"Create the serializable dictionary for caching\n",
        "\n",
        "        Returns:\n",
        "            contents (dict): the serializable dictionary\n",
        "        \"\"\"\n",
        "        return {'review_vocab': self.review_vocab.to_serializable(),\n",
        "                'rating_vocab': self.rating_vocab.to_serializable()}"
      ]
    },
    {
      "cell_type": "markdown",
      "metadata": {
        "id": "F4Rb7EGzuyB1"
      },
      "source": [
        "### The Dataset"
      ]
    },
    {
      "cell_type": "code",
      "execution_count": null,
      "metadata": {
        "code_folding": [
          65
        ],
        "execution": {
          "iopub.execute_input": "2025-02-06T02:33:19.835692Z",
          "iopub.status.busy": "2025-02-06T02:33:19.835362Z",
          "iopub.status.idle": "2025-02-06T02:33:19.847500Z",
          "shell.execute_reply": "2025-02-06T02:33:19.846419Z",
          "shell.execute_reply.started": "2025-02-06T02:33:19.835666Z"
        },
        "id": "o6G3UTf2uyB2",
        "trusted": true
      },
      "outputs": [],
      "source": [
        "class ReviewDataset(Dataset):\n",
        "    def __init__(self, review_df, vectorizer):\n",
        "        \"\"\"\n",
        "        Args:\n",
        "            review_df (pandas.DataFrame): the dataset\n",
        "            vectorizer (ReviewVectorizer): vectorizer instantiated from dataset\n",
        "        \"\"\"\n",
        "        self.review_df = review_df\n",
        "        self._vectorizer = vectorizer\n",
        "\n",
        "        self.train_df = self.review_df[self.review_df.split=='train']\n",
        "        self.train_size = len(self.train_df)\n",
        "\n",
        "        self.val_df = self.review_df[self.review_df.split=='val']\n",
        "        self.validation_size = len(self.val_df)\n",
        "\n",
        "        self.test_df = self.review_df[self.review_df.split=='test']\n",
        "        self.test_size = len(self.test_df)\n",
        "\n",
        "        self._lookup_dict = {'train': (self.train_df, self.train_size),\n",
        "                             'val': (self.val_df, self.validation_size),\n",
        "                             'test': (self.test_df, self.test_size)}\n",
        "\n",
        "        self.set_split('train')\n",
        "\n",
        "    @classmethod\n",
        "    def load_dataset_and_make_vectorizer(cls, review_csv):\n",
        "        \"\"\"Load dataset and make a new vectorizer from scratch\n",
        "\n",
        "        Args:\n",
        "            review_csv (str): location of the dataset\n",
        "        Returns:\n",
        "            an instance of ReviewDataset\n",
        "        \"\"\"\n",
        "        review_df = pd.read_csv(review_csv)\n",
        "        train_review_df = review_df[review_df.split=='train']\n",
        "        return cls(review_df, ReviewVectorizer.from_dataframe(train_review_df))\n",
        "\n",
        "    @classmethod\n",
        "    def load_dataset_and_load_vectorizer(cls, review_csv, vectorizer_filepath):\n",
        "        \"\"\"Load dataset and the corresponding vectorizer.\n",
        "        Used in the case in the vectorizer has been cached for re-use\n",
        "\n",
        "        Args:\n",
        "            review_csv (str): location of the dataset\n",
        "            vectorizer_filepath (str): location of the saved vectorizer\n",
        "        Returns:\n",
        "            an instance of ReviewDataset\n",
        "        \"\"\"\n",
        "        review_df = pd.read_csv(review_csv)\n",
        "        vectorizer = cls.load_vectorizer_only(vectorizer_filepath)\n",
        "        return cls(review_df, vectorizer)\n",
        "\n",
        "    @staticmethod\n",
        "    def load_vectorizer_only(vectorizer_filepath):\n",
        "        \"\"\"a static method for loading the vectorizer from file\n",
        "\n",
        "        Args:\n",
        "            vectorizer_filepath (str): the location of the serialized vectorizer\n",
        "        Returns:\n",
        "            an instance of ReviewVectorizer\n",
        "        \"\"\"\n",
        "        with open(vectorizer_filepath) as fp:\n",
        "            return ReviewVectorizer.from_serializable(json.load(fp))\n",
        "\n",
        "    def save_vectorizer(self, vectorizer_filepath):\n",
        "        \"\"\"saves the vectorizer to disk using json\n",
        "\n",
        "        Args:\n",
        "            vectorizer_filepath (str): the location to save the vectorizer\n",
        "        \"\"\"\n",
        "        with open(vectorizer_filepath, \"w\") as fp:\n",
        "            json.dump(self._vectorizer.to_serializable(), fp)\n",
        "\n",
        "    def get_vectorizer(self):\n",
        "        \"\"\" returns the vectorizer \"\"\"\n",
        "        return self._vectorizer\n",
        "\n",
        "    def set_split(self, split=\"train\"):\n",
        "        \"\"\" selects the splits in the dataset using a column in the dataframe\n",
        "\n",
        "        Args:\n",
        "            split (str): one of \"train\", \"val\", or \"test\"\n",
        "        \"\"\"\n",
        "        self._target_split = split\n",
        "        self._target_df, self._target_size = self._lookup_dict[split]\n",
        "\n",
        "    def __len__(self):\n",
        "        return self._target_size\n",
        "\n",
        "    def __getitem__(self, index):\n",
        "        \"\"\"the primary entry point method for PyTorch datasets\n",
        "\n",
        "        Args:\n",
        "            index (int): the index to the data point\n",
        "        Returns:\n",
        "            a dictionary holding the data point's features (x_data) and label (y_target)\n",
        "        \"\"\"\n",
        "        row = self._target_df.iloc[index]\n",
        "\n",
        "        review_vector = \\\n",
        "            self._vectorizer.vectorize(row.review)\n",
        "\n",
        "        rating_index = \\\n",
        "            self._vectorizer.rating_vocab.lookup_token(row.rating)\n",
        "\n",
        "        return {'x_data': review_vector,\n",
        "                'y_target': rating_index}\n",
        "\n",
        "    def get_num_batches(self, batch_size):\n",
        "        \"\"\"Given a batch size, return the number of batches in the dataset\n",
        "\n",
        "        Args:\n",
        "            batch_size (int)\n",
        "        Returns:\n",
        "            number of batches in the dataset\n",
        "        \"\"\"\n",
        "        return len(self) // batch_size\n",
        "\n",
        "def generate_batches(dataset, batch_size, shuffle=True,\n",
        "                     drop_last=True, device=\"cpu\"):\n",
        "    \"\"\"\n",
        "    A generator function which wraps the PyTorch DataLoader. It will\n",
        "    ensure each tensor is at the correct device location.\n",
        "    \"\"\"\n",
        "    dataloader = DataLoader(dataset=dataset, batch_size=batch_size,\n",
        "                            shuffle=shuffle, drop_last=drop_last)\n",
        "\n",
        "    for data_dict in dataloader:\n",
        "        out_data_dict = {}\n",
        "        for name, tensor in data_dict.items():\n",
        "            out_data_dict[name] = data_dict[name].to(device)\n",
        "        yield out_data_dict"
      ]
    },
    {
      "cell_type": "markdown",
      "metadata": {
        "id": "tqEhBKAkuyB3"
      },
      "source": [
        "## Defining the Model Class\n",
        "\n",
        "As with other examples we saw, the typical approach with PyTorch is to inherit from the `nn.Module` baseclass. This is then extended and customized per your model's architecture (e.g. how many layers, units per layer, etc.) and task (e.g. output layer and activation function)."
      ]
    },
    {
      "cell_type": "code",
      "execution_count": null,
      "metadata": {
        "code_folding": [],
        "execution": {
          "iopub.execute_input": "2025-02-06T02:33:25.904054Z",
          "iopub.status.busy": "2025-02-06T02:33:25.903670Z",
          "iopub.status.idle": "2025-02-06T02:33:25.909957Z",
          "shell.execute_reply": "2025-02-06T02:33:25.908961Z",
          "shell.execute_reply.started": "2025-02-06T02:33:25.904027Z"
        },
        "id": "C7jQxJ-quyB4",
        "trusted": true
      },
      "outputs": [],
      "source": [
        "class ReviewClassifier(nn.Module):\n",
        "    \"\"\"A simple perceptron-based classifier with an extra hidden layer\"\"\"\n",
        "\n",
        "    def __init__(self, num_features, hidden_features, hidden_features_2):\n",
        "        \"\"\"\n",
        "        Args:\n",
        "            num_features (int): the size of the input feature vector\n",
        "            hidden_features (int): the number of neurons in the first hidden layer\n",
        "            hidden_features_2 (int): the number of neurons in the second hidden layer\n",
        "        \"\"\"\n",
        "        super(ReviewClassifier, self).__init__()\n",
        "        self.fc1 = nn.Linear(in_features=num_features, out_features=hidden_features)\n",
        "        self.fc2 = nn.Linear(in_features=hidden_features, out_features=hidden_features_2)\n",
        "        self.fc3 = nn.Linear(in_features=hidden_features_2, out_features=16)\n",
        "        self.fc4 = nn.Linear(in_features=16, out_features=1)\n",
        "\n",
        "    def forward(self, x_in, apply_sigmoid=False):\n",
        "        \"\"\"The forward pass of the classifier\n",
        "\n",
        "        Args:\n",
        "            x_in (torch.Tensor): an input data tensor.\n",
        "                x_in.shape should be (batch, num_features)\n",
        "            apply_sigmoid (bool): a flag for whether the sigmoid activation\n",
        "                should be applied. It should be false if used with Cross Entropy loss.\n",
        "        Returns:\n",
        "            the resulting tensor. tensor.shape should be (batch,)\n",
        "        \"\"\"\n",
        "        out = self.fc1(x_in)\n",
        "        out = F.relu(out)\n",
        "\n",
        "        out = self.fc2(out)\n",
        "        out = F.relu(out)\n",
        "        out = self.fc3(out)\n",
        "        out = F.relu(out)\n",
        "\n",
        "        y_out = self.fc4(out).squeeze()\n",
        "        if apply_sigmoid:\n",
        "            y_out = torch.sigmoid(y_out)\n",
        "        return y_out\n"
      ]
    },
    {
      "cell_type": "markdown",
      "metadata": {
        "id": "jP_VhtLBuyB4"
      },
      "source": [
        "## Training Routine\n",
        "\n",
        "\n",
        "### Helper functions"
      ]
    },
    {
      "cell_type": "code",
      "execution_count": null,
      "metadata": {
        "code_folding": [],
        "execution": {
          "iopub.execute_input": "2025-02-06T02:33:29.245690Z",
          "iopub.status.busy": "2025-02-06T02:33:29.245356Z",
          "iopub.status.idle": "2025-02-06T02:33:29.252886Z",
          "shell.execute_reply": "2025-02-06T02:33:29.251720Z",
          "shell.execute_reply.started": "2025-02-06T02:33:29.245664Z"
        },
        "id": "b4Mhlph_uyB5",
        "trusted": true
      },
      "outputs": [],
      "source": [
        "def make_train_state(args):\n",
        "    return {'stop_early': True,\n",
        "            'early_stopping_step': 0,\n",
        "            'early_stopping_best_val': 1e6,\n",
        "            'learning_rate': args.learning_rate,\n",
        "            'epoch_index': 0,\n",
        "            'train_loss': [],\n",
        "            'train_acc': [],\n",
        "            'val_loss': [],\n",
        "            'val_acc': [],\n",
        "            'test_loss': -1,\n",
        "            'test_acc': -1,\n",
        "            'model_filename': args.model_state_file}\n",
        "\n",
        "def update_train_state(args, model, train_state):\n",
        "    \"\"\"Handle the training state updates.\n",
        "\n",
        "    Components:\n",
        "     - Early Stopping: Prevent overfitting.\n",
        "     - Model Checkpoint: Model is saved if the model is better\n",
        "\n",
        "    :param args: main arguments\n",
        "    :param model: model to train\n",
        "    :param train_state: a dictionary representing the training state values\n",
        "    :returns:\n",
        "        a new train_state\n",
        "    \"\"\"\n",
        "\n",
        "    # Save one model at least\n",
        "    if train_state['epoch_index'] == 0:\n",
        "        torch.save(model.state_dict(), train_state['model_filename'])\n",
        "        train_state['stop_early'] = False\n",
        "\n",
        "    # Save model if performance improved\n",
        "    elif train_state['epoch_index'] >= 1:\n",
        "        loss_tm1, loss_t = train_state['val_loss'][-2:]\n",
        "\n",
        "        # If loss worsened\n",
        "        if loss_t >= train_state['early_stopping_best_val']:\n",
        "            # Update step\n",
        "            train_state['early_stopping_step'] += 1\n",
        "        # Loss decreased\n",
        "        else:\n",
        "            # Save the best model\n",
        "            if loss_t < train_state['early_stopping_best_val']:\n",
        "                torch.save(model.state_dict(), train_state['model_filename'])\n",
        "\n",
        "            # Reset early stopping step\n",
        "            train_state['early_stopping_step'] = 0\n",
        "\n",
        "        # Stop early ?\n",
        "        train_state['stop_early'] = \\\n",
        "            train_state['early_stopping_step'] >= args.early_stopping_criteria\n",
        "\n",
        "    return train_state\n",
        "\n",
        "def compute_accuracy(y_pred, y_target):\n",
        "    y_target = y_target.cpu()\n",
        "    y_pred_indices = (torch.sigmoid(y_pred)>0.5).cpu().long()#.max(dim=1)[1]\n",
        "    n_correct = torch.eq(y_pred_indices, y_target).sum().item()\n",
        "    return n_correct / len(y_pred_indices) * 100"
      ]
    },
    {
      "cell_type": "markdown",
      "metadata": {
        "id": "UEK1munnuyB5"
      },
      "source": [
        "#### General utilities\n",
        "\n",
        "A couple of general helper functions. The first, which sets the random seed is important since you will generally want to be able recreate a model training run exactly. Because there are so many places where random number generation is needed though (e.g. initial weight values, sampling of batches, etc.) it is important the the random seed is set so that the exact same random numbers are generated. Note that both `numpy` and `PyTorch` each have their own random number generation, so both need to be set."
      ]
    },
    {
      "cell_type": "code",
      "execution_count": null,
      "metadata": {
        "execution": {
          "iopub.execute_input": "2025-02-06T02:33:33.175657Z",
          "iopub.status.busy": "2025-02-06T02:33:33.175340Z",
          "iopub.status.idle": "2025-02-06T02:33:33.180331Z",
          "shell.execute_reply": "2025-02-06T02:33:33.179354Z",
          "shell.execute_reply.started": "2025-02-06T02:33:33.175631Z"
        },
        "id": "kGBkYFU6uyB6",
        "trusted": true
      },
      "outputs": [],
      "source": [
        "def set_seed_everywhere(seed, cuda):\n",
        "    np.random.seed(seed)\n",
        "    torch.manual_seed(seed)\n",
        "    if cuda:\n",
        "        torch.cuda.manual_seed_all(seed)\n",
        "\n",
        "def handle_dirs(dirpath):\n",
        "    if not os.path.exists(dirpath):\n",
        "        os.makedirs(dirpath)"
      ]
    },
    {
      "cell_type": "markdown",
      "metadata": {
        "id": "vkKHBPdfuyB6"
      },
      "source": [
        "### Settings and prep work"
      ]
    },
    {
      "cell_type": "code",
      "execution_count": null,
      "metadata": {
        "execution": {
          "iopub.execute_input": "2025-02-06T02:42:14.941183Z",
          "iopub.status.busy": "2025-02-06T02:42:14.940866Z",
          "iopub.status.idle": "2025-02-06T02:42:14.950594Z",
          "shell.execute_reply": "2025-02-06T02:42:14.949760Z",
          "shell.execute_reply.started": "2025-02-06T02:42:14.941154Z"
        },
        "id": "Ia3YLiyvuyB6",
        "trusted": true,
        "colab": {
          "base_uri": "https://localhost:8080/"
        },
        "outputId": "3ae5a430-bf3f-48a6-8a9c-98e8d606090a"
      },
      "outputs": [
        {
          "output_type": "stream",
          "name": "stdout",
          "text": [
            "Expanded filepaths: \n",
            "\thttps://raw.githubusercontent.com/sgeinitz/DSML4220/main/data/yelp_reviews.csv\n",
            "\t~/data/dsml4220/vectorizer.json\n",
            "\t~/data/dsml4220/model.pth\n",
            "Using CUDA: False\n"
          ]
        }
      ],
      "source": [
        "# Setup information about how to name and locate data, hyperparams, etc.\n",
        "args = Namespace(\n",
        "    # Input data file (from preprocessing step)\n",
        "    #input_data_path='gdrive/MyDrive/Colab Data/',\n",
        "    input_data_path='~/data/',\n",
        "    review_csv='https://raw.githubusercontent.com/sgeinitz/DSML4220/main/data/yelp_reviews.csv',\n",
        "    # Output data and path information\n",
        "    #frequency_cutoff=25,\n",
        "    model_state_file='model.pth',\n",
        "    #save_dir='gdrive/MyDrive/Colab Data/yelp_models/',\n",
        "    save_dir='~/data/dsml4220/',\n",
        "    vectorizer_file='vectorizer.json',\n",
        "    # Training hyper parameters\n",
        "    batch_size=1000,\n",
        "    early_stopping_criteria=3,\n",
        "    learning_rate=0.001,\n",
        "    num_epochs=6,\n",
        "    seed=42,\n",
        "    # Runtime options\n",
        "    catch_keyboard_interrupt=True,\n",
        "    cuda=True,\n",
        "    expand_filepaths_to_save_dir=True,\n",
        "    reload_from_files=False,\n",
        ")\n",
        "\n",
        "# Expand out the paths and confirm they are correct\n",
        "if args.expand_filepaths_to_save_dir:\n",
        "    if 'https' not in args.review_csv:\n",
        "        args.review_csv = os.path.join(args.input_data_path, args.review_csv)\n",
        "    args.vectorizer_file = os.path.join(args.save_dir, args.vectorizer_file)\n",
        "    args.model_state_file = os.path.join(args.save_dir, args.model_state_file)\n",
        "    print(\"Expanded filepaths: \")\n",
        "    print(\"\\t{}\".format(args.review_csv))\n",
        "    print(\"\\t{}\".format(args.vectorizer_file))\n",
        "    print(\"\\t{}\".format(args.model_state_file))\n",
        "\n",
        "# Check CUDA\n",
        "if not torch.cuda.is_available():\n",
        "    args.cuda = False\n",
        "\n",
        "print(\"Using CUDA: {}\".format(args.cuda))\n",
        "\n",
        "args.device = torch.device(\"cuda\" if args.cuda else \"cpu\")\n",
        "\n",
        "# Set seed for reproducibility\n",
        "set_seed_everywhere(args.seed, args.cuda)\n",
        "\n",
        "# handle dirs\n",
        "handle_dirs(args.save_dir)"
      ]
    },
    {
      "cell_type": "markdown",
      "metadata": {
        "id": "UMIuUKIAuyB7"
      },
      "source": [
        "### Initializations"
      ]
    },
    {
      "cell_type": "code",
      "execution_count": null,
      "metadata": {
        "id": "yOga7ENXqvAA",
        "colab": {
          "base_uri": "https://localhost:8080/"
        },
        "outputId": "9ff54d22-e630-4a3d-8a23-6341e329f96c"
      },
      "outputs": [
        {
          "output_type": "stream",
          "name": "stderr",
          "text": [
            "[nltk_data] Downloading package stopwords to /root/nltk_data...\n",
            "[nltk_data]   Unzipping corpora/stopwords.zip.\n"
          ]
        },
        {
          "output_type": "execute_result",
          "data": {
            "text/plain": [
              "True"
            ]
          },
          "metadata": {},
          "execution_count": 10
        }
      ],
      "source": [
        "# if the cell below has an error due to nltk stopwords, then uncomment the followign lines and run them, then re-run the cell below\n",
        "\n",
        "import nltk\n",
        "nltk.download('stopwords')"
      ]
    },
    {
      "cell_type": "code",
      "execution_count": null,
      "metadata": {
        "execution": {
          "iopub.execute_input": "2025-02-06T02:42:16.389527Z",
          "iopub.status.busy": "2025-02-06T02:42:16.389191Z",
          "iopub.status.idle": "2025-02-06T02:42:20.523023Z",
          "shell.execute_reply": "2025-02-06T02:42:20.521990Z",
          "shell.execute_reply.started": "2025-02-06T02:42:16.389497Z"
        },
        "id": "vseHjsbhuyB7",
        "trusted": true,
        "colab": {
          "base_uri": "https://localhost:8080/"
        },
        "outputId": "1b5e3efc-ab2d-4d7f-ff0e-9b21846a2cc8"
      },
      "outputs": [
        {
          "output_type": "stream",
          "name": "stdout",
          "text": [
            "Loading dataset and creating vectorizer\n"
          ]
        }
      ],
      "source": [
        "if args.reload_from_files:\n",
        "    # training from a checkpoint\n",
        "    print(\"Loading dataset and vectorizer\")\n",
        "    dataset = ReviewDataset.load_dataset_and_load_vectorizer(args.review_csv,\n",
        "                                                            args.vectorizer_file)\n",
        "else:\n",
        "    print(\"Loading dataset and creating vectorizer\")\n",
        "    # create dataset and vectorizer\n",
        "    dataset = ReviewDataset.load_dataset_and_make_vectorizer(args.review_csv)\n",
        "    dataset.save_vectorizer(args.vectorizer_file)\n",
        "vectorizer = dataset.get_vectorizer()\n"
      ]
    },
    {
      "cell_type": "markdown",
      "metadata": {
        "id": "PdwJPBPDqvAA"
      },
      "source": [
        "### Quick Data Exploration"
      ]
    },
    {
      "cell_type": "code",
      "execution_count": null,
      "metadata": {
        "execution": {
          "iopub.execute_input": "2025-02-06T02:42:33.841724Z",
          "iopub.status.busy": "2025-02-06T02:42:33.841380Z",
          "iopub.status.idle": "2025-02-06T02:42:33.847229Z",
          "shell.execute_reply": "2025-02-06T02:42:33.846266Z",
          "shell.execute_reply.started": "2025-02-06T02:42:33.841670Z"
        },
        "id": "SMeLU8-8Hsuh",
        "trusted": true,
        "colab": {
          "base_uri": "https://localhost:8080/",
          "height": 88
        },
        "outputId": "6bdbe5ca-7ce6-464f-faef-216736d3c20c"
      },
      "outputs": [
        {
          "output_type": "execute_result",
          "data": {
            "text/plain": [
              "'if i could give a of a star i would . the service is terrible ! we were first sat where it was freezing and the waiter was very unprofessional made it uncomfortable with stupid little remarks . we then moved to the bar area because that the only place you can get the happy hour appetizers , which isn t unheard of but would have been nice if the waiter promoted what they have . after ordering our main course i got shrimp and as the food came out they told me they were out of cocktail sauce . i then waited minutes for extra lemon which i never got because no one checked on us after the first time again . this was by far the worst experience i ve ever had anywhere . never again . save your money . '"
            ],
            "application/vnd.google.colaboratory.intrinsic+json": {
              "type": "string"
            }
          },
          "metadata": {},
          "execution_count": 12
        }
      ],
      "source": [
        "dataset.review_df['review'][4]"
      ]
    },
    {
      "cell_type": "code",
      "execution_count": null,
      "metadata": {
        "execution": {
          "iopub.execute_input": "2025-02-06T02:42:43.743229Z",
          "iopub.status.busy": "2025-02-06T02:42:43.742880Z",
          "iopub.status.idle": "2025-02-06T02:42:43.748818Z",
          "shell.execute_reply": "2025-02-06T02:42:43.747818Z",
          "shell.execute_reply.started": "2025-02-06T02:42:43.743195Z"
        },
        "trusted": true,
        "id": "VS1OsGxKqvAB",
        "colab": {
          "base_uri": "https://localhost:8080/",
          "height": 35
        },
        "outputId": "4a48d1d7-8838-4a8d-ff22-c4d40766fb5f"
      },
      "outputs": [
        {
          "output_type": "execute_result",
          "data": {
            "text/plain": [
              "'negative'"
            ],
            "application/vnd.google.colaboratory.intrinsic+json": {
              "type": "string"
            }
          },
          "metadata": {},
          "execution_count": 13
        }
      ],
      "source": [
        "dataset.review_df['rating'][4]"
      ]
    },
    {
      "cell_type": "code",
      "execution_count": null,
      "metadata": {
        "execution": {
          "iopub.execute_input": "2025-02-06T02:42:44.471625Z",
          "iopub.status.busy": "2025-02-06T02:42:44.471246Z",
          "iopub.status.idle": "2025-02-06T02:42:44.477422Z",
          "shell.execute_reply": "2025-02-06T02:42:44.476281Z",
          "shell.execute_reply.started": "2025-02-06T02:42:44.471583Z"
        },
        "id": "m1eTt9LvH8W-",
        "trusted": true,
        "colab": {
          "base_uri": "https://localhost:8080/",
          "height": 53
        },
        "outputId": "624aa3ce-c181-4b0e-fa83-2ce48b7dd575"
      },
      "outputs": [
        {
          "output_type": "execute_result",
          "data": {
            "text/plain": [
              "'dr . tom is wonderful , at least the couple times i have been able to see her . nthey have so many patients that you can never get a appointment with your doctor , they are booked at least months out . it s about volume here . '"
            ],
            "application/vnd.google.colaboratory.intrinsic+json": {
              "type": "string"
            }
          },
          "metadata": {},
          "execution_count": 14
        }
      ],
      "source": [
        "dataset.test_df['review'].iloc[4]"
      ]
    },
    {
      "cell_type": "code",
      "execution_count": null,
      "metadata": {
        "execution": {
          "iopub.execute_input": "2025-02-06T02:42:48.336909Z",
          "iopub.status.busy": "2025-02-06T02:42:48.336548Z",
          "iopub.status.idle": "2025-02-06T02:42:48.342276Z",
          "shell.execute_reply": "2025-02-06T02:42:48.341564Z",
          "shell.execute_reply.started": "2025-02-06T02:42:48.336878Z"
        },
        "id": "5kt7Z599Ig6T",
        "trusted": true,
        "colab": {
          "base_uri": "https://localhost:8080/",
          "height": 53
        },
        "outputId": "d4d3f916-34e7-4f56-adf5-b75531045ec5"
      },
      "outputs": [
        {
          "output_type": "execute_result",
          "data": {
            "text/plain": [
              "'dr . tom is wonderful , at least the couple times i have been able to see her . nthey have so many patients that you can never get a appointment with your doctor , they are booked at least months out . it s about volume here . '"
            ],
            "application/vnd.google.colaboratory.intrinsic+json": {
              "type": "string"
            }
          },
          "metadata": {},
          "execution_count": 15
        }
      ],
      "source": [
        "dataset.set_split('test')\n",
        "dataset._target_df['review'].iloc[4]"
      ]
    },
    {
      "cell_type": "code",
      "execution_count": null,
      "metadata": {
        "execution": {
          "iopub.execute_input": "2025-02-06T02:42:57.182820Z",
          "iopub.status.busy": "2025-02-06T02:42:57.182458Z",
          "iopub.status.idle": "2025-02-06T02:42:57.188157Z",
          "shell.execute_reply": "2025-02-06T02:42:57.187472Z",
          "shell.execute_reply.started": "2025-02-06T02:42:57.182791Z"
        },
        "id": "0_UERIeTJAVd",
        "trusted": true,
        "colab": {
          "base_uri": "https://localhost:8080/"
        },
        "outputId": "47080847-f5e3-444e-d84c-8d33cc9e212e"
      },
      "outputs": [
        {
          "output_type": "execute_result",
          "data": {
            "text/plain": [
              "(8137,)"
            ]
          },
          "metadata": {},
          "execution_count": 16
        }
      ],
      "source": [
        "dataset[4]['x_data'].shape"
      ]
    },
    {
      "cell_type": "code",
      "execution_count": null,
      "metadata": {
        "execution": {
          "iopub.execute_input": "2025-02-06T02:43:00.728244Z",
          "iopub.status.busy": "2025-02-06T02:43:00.727936Z",
          "iopub.status.idle": "2025-02-06T02:43:00.755107Z",
          "shell.execute_reply": "2025-02-06T02:43:00.754291Z",
          "shell.execute_reply.started": "2025-02-06T02:43:00.728221Z"
        },
        "trusted": true,
        "id": "aOIuP2fMqvAF",
        "colab": {
          "base_uri": "https://localhost:8080/"
        },
        "outputId": "a82f3195-2904-4d59-bc49-9285e81cec88"
      },
      "outputs": [
        {
          "output_type": "stream",
          "name": "stdout",
          "text": [
            " pos i=   0 has token value of: 1.0 (token was: <UNK>)\n",
            " pos i=  56 has token value of: 1.0 (token was: get)\n",
            " pos i= 251 has token value of: 1.0 (token was: couple)\n",
            " pos i= 286 has token value of: 1.0 (token was: never)\n",
            " pos i= 442 has token value of: 1.0 (token was: wonderful)\n",
            " pos i= 502 has token value of: 1.0 (token was: appointment)\n",
            " pos i= 514 has token value of: 1.0 (token was: doctor)\n",
            " pos i= 551 has token value of: 1.0 (token was: months)\n",
            " pos i= 576 has token value of: 1.0 (token was: least)\n",
            " pos i= 600 has token value of: 1.0 (token was: many)\n",
            " pos i= 646 has token value of: 1.0 (token was: see)\n",
            " pos i= 659 has token value of: 1.0 (token was: nthey)\n",
            " pos i= 812 has token value of: 1.0 (token was: times)\n",
            " pos i=1032 has token value of: 1.0 (token was: able)\n",
            " pos i=1047 has token value of: 1.0 (token was: volume)\n",
            " pos i=1305 has token value of: 1.0 (token was: dr)\n",
            " pos i=1320 has token value of: 1.0 (token was: patients)\n",
            " pos i=1351 has token value of: 1.0 (token was: tom)\n",
            " pos i=1614 has token value of: 1.0 (token was: booked)\n"
          ]
        }
      ],
      "source": [
        "for i, tokflag in enumerate(dataset[4]['x_data']):\n",
        "    if tokflag > 0:\n",
        "#        print(f\" pos i={i:4.0f} has a non-zero token value of: {tokflag} (original tok was: {vectorizer.review_vocab._idx_to_token[i]})\")\n",
        "        print(f\" pos i={i:4.0f} has token value of: {tokflag} (token was: {vectorizer.review_vocab.lookup_index(i)})\")"
      ]
    },
    {
      "cell_type": "code",
      "execution_count": null,
      "metadata": {
        "execution": {
          "iopub.execute_input": "2025-02-06T03:28:17.188608Z",
          "iopub.status.busy": "2025-02-06T03:28:17.188296Z",
          "iopub.status.idle": "2025-02-06T03:28:17.200523Z",
          "shell.execute_reply": "2025-02-06T03:28:17.199663Z",
          "shell.execute_reply.started": "2025-02-06T03:28:17.188584Z"
        },
        "id": "QBoq1XdOZ_GN",
        "trusted": true,
        "colab": {
          "base_uri": "https://localhost:8080/"
        },
        "outputId": "bdebefc8-f466-4fef-8e4e-acd092c688aa"
      },
      "outputs": [
        {
          "output_type": "stream",
          "name": "stdout",
          "text": [
            " 0 -> <UNK>\n",
            " 1 -> think\n",
            " 2 -> filiberto\n",
            " 3 -> good\n",
            " 4 -> food\n",
            " 5 -> like\n",
            " 6 -> place\n",
            " 7 -> tacos\n",
            " 8 -> dry\n",
            " 9 -> tasteless\n",
            "10 -> lukewarm\n",
            "11 -> beans\n",
            "12 -> fluffy\n",
            "13 -> rice\n",
            "14 -> thing\n",
            "15 -> love\n",
            "16 -> gilbert\n",
            "17 -> want\n",
            "18 -> support\n",
            "19 -> mom\n",
            "20 -> pop\n",
            "21 -> nhow\n",
            "22 -> around\n",
            "23 -> long\n",
            "24 -> beyond\n",
            "25 -> driven\n",
            "26 -> years\n",
            "27 -> figured\n",
            "28 -> must\n",
            "29 -> great\n"
          ]
        }
      ],
      "source": [
        "#vectorizer.review_vocab._token_to_idx\n",
        "for key, val in vectorizer.review_vocab._idx_to_token.items():\n",
        "  if key < 30:\n",
        "    print(f\"{key:2.0f} -> {val}\")"
      ]
    },
    {
      "cell_type": "markdown",
      "metadata": {
        "id": "5ZfqQ4SgqvAF"
      },
      "source": [
        "The `vectorizer` even stores the labels themselves (i.e. the Yelp review classification)  in Python dictionaries."
      ]
    },
    {
      "cell_type": "code",
      "execution_count": null,
      "metadata": {
        "execution": {
          "iopub.execute_input": "2025-02-06T03:29:26.621526Z",
          "iopub.status.busy": "2025-02-06T03:29:26.621177Z",
          "iopub.status.idle": "2025-02-06T03:29:26.626378Z",
          "shell.execute_reply": "2025-02-06T03:29:26.625555Z",
          "shell.execute_reply.started": "2025-02-06T03:29:26.621497Z"
        },
        "id": "akMEBK7HfQY7",
        "trusted": true,
        "colab": {
          "base_uri": "https://localhost:8080/"
        },
        "outputId": "9e66b046-d172-4fa6-f7ed-b45d3561af15"
      },
      "outputs": [
        {
          "output_type": "stream",
          "name": "stdout",
          "text": [
            "{0: 'negative', 1: 'positive'}\n",
            "{'negative': 0, 'positive': 1}\n"
          ]
        }
      ],
      "source": [
        "print(vectorizer.rating_vocab._idx_to_token)\n",
        "print(vectorizer.rating_vocab._token_to_idx)"
      ]
    },
    {
      "cell_type": "markdown",
      "metadata": {
        "id": "veZ8S_qvuyB8"
      },
      "source": [
        "### Training loop"
      ]
    },
    {
      "cell_type": "markdown",
      "metadata": {
        "id": "A08r9B--qvAF"
      },
      "source": [
        "Let's declare/instantiate our model in a cell separate from the training run itself so that we can re-run it indepedently of other set up steps. This way if we change model architecture we can simply re-run this cell."
      ]
    },
    {
      "cell_type": "code",
      "execution_count": null,
      "metadata": {
        "execution": {
          "iopub.execute_input": "2025-02-06T02:52:00.721731Z",
          "iopub.status.busy": "2025-02-06T02:52:00.721355Z",
          "iopub.status.idle": "2025-02-06T02:52:00.757669Z",
          "shell.execute_reply": "2025-02-06T02:52:00.757007Z",
          "shell.execute_reply.started": "2025-02-06T02:52:00.721673Z"
        },
        "id": "rKXPHjqa5JGK",
        "trusted": true
      },
      "outputs": [],
      "source": [
        "classifier = ReviewClassifier(num_features=len(vectorizer.review_vocab), hidden_features=128, hidden_features_2=64)"
      ]
    },
    {
      "cell_type": "code",
      "execution_count": null,
      "metadata": {
        "code_folding": [
          30
        ],
        "execution": {
          "iopub.execute_input": "2025-02-06T02:52:01.825782Z",
          "iopub.status.busy": "2025-02-06T02:52:01.825445Z",
          "iopub.status.idle": "2025-02-06T02:52:55.415312Z",
          "shell.execute_reply": "2025-02-06T02:52:55.414163Z",
          "shell.execute_reply.started": "2025-02-06T02:52:01.825749Z"
        },
        "id": "PR545mDNuyB8",
        "scrolled": true,
        "trusted": true,
        "colab": {
          "base_uri": "https://localhost:8080/",
          "height": 113,
          "referenced_widgets": [
            "e6c8511117be4319b6543bc16f27f632",
            "6c04d314b0ff46278350836f19a60a98",
            "ff301a29840145d6b422e6a56a283bca",
            "d954b4602dca4bfc8901952468194839",
            "255feaaa1f844a80b1a31c8f558f2c85",
            "556f3e958ed8495d99b94e6c843ac1ef",
            "89bccb8d6e744346950b644d59108107",
            "d01f147481d54bec9b43f7de122a88d1",
            "41de6d2bddaf4158a3dbd2a0fce3164d",
            "95e0ce8abc3d493aa8856b2571bcc9b7",
            "e0bd416b763b458284f28714eca557f4",
            "3b7142ec86b54efa98d103cb18ec3463",
            "70e1c5f9fde94eaaa64f91ed36b7c0f4",
            "3ee01ae53187448999edd3596b1e0744",
            "753b4c1bca874f3d895f7185098766d2",
            "256bce104b054159a9d1bd20569cbbbd",
            "dd98fa3536274bf9b6c2fa25d7f9cd8c",
            "e80c16322d004afeb14039cda88623b5",
            "d3692d176aab45a587975b07fc4a0124",
            "c802dad236d249cab95172be9d283cf1",
            "76965961648c492881141af7f83e23c4",
            "6bb230f870fa4075acda6df774842ebd",
            "140e9821ff4446669b56cf0af4dae7fc",
            "00749946e26845249d1a72df75009310",
            "47be4c9711544b449ae9cbdbb7e473cf",
            "2f286827143a4cd0a47bf40dd6da78e4",
            "b293c70493384eb6ad6fd4a7d29542a6",
            "5a11506b5659450e9381f91bb5fcec61",
            "2c172ec90691489d97d7ae093acdf26c",
            "a2236a1440bd45a2bb0d64d3d7c30b40",
            "e889f1efd1a64f4697623e30e0a5ab78",
            "2f7196b921dd435485283b87295dd957",
            "edae81504a8d4b62bf83205c04f13984"
          ]
        },
        "outputId": "fc7b1de8-b226-4303-f1f4-2e8686fc2a2c"
      },
      "outputs": [
        {
          "output_type": "display_data",
          "data": {
            "text/plain": [
              "training routine:   0%|          | 0/6 [00:00<?, ?it/s]"
            ],
            "application/vnd.jupyter.widget-view+json": {
              "version_major": 2,
              "version_minor": 0,
              "model_id": "e6c8511117be4319b6543bc16f27f632"
            }
          },
          "metadata": {}
        },
        {
          "output_type": "display_data",
          "data": {
            "text/plain": [
              "split=train:   0%|          | 0/39 [00:00<?, ?it/s]"
            ],
            "application/vnd.jupyter.widget-view+json": {
              "version_major": 2,
              "version_minor": 0,
              "model_id": "3b7142ec86b54efa98d103cb18ec3463"
            }
          },
          "metadata": {}
        },
        {
          "output_type": "display_data",
          "data": {
            "text/plain": [
              "split=val:   0%|          | 0/8 [00:00<?, ?it/s]"
            ],
            "application/vnd.jupyter.widget-view+json": {
              "version_major": 2,
              "version_minor": 0,
              "model_id": "140e9821ff4446669b56cf0af4dae7fc"
            }
          },
          "metadata": {}
        }
      ],
      "source": [
        "import tqdm.auto\n",
        "\n",
        "classifier = classifier.to(args.device)\n",
        "\n",
        "loss_func = nn.BCEWithLogitsLoss()\n",
        "optimizer = optim.Adam(classifier.parameters(), lr=args.learning_rate)\n",
        "scheduler = optim.lr_scheduler.ReduceLROnPlateau(optimizer=optimizer,\n",
        "                                                 mode='min', factor=0.5,\n",
        "                                                 patience=1)\n",
        "\n",
        "train_state = make_train_state(args)\n",
        "\n",
        "epoch_bar = tqdm.notebook.tqdm(desc='training routine',\n",
        "                          total=args.num_epochs,\n",
        "                          position=0)\n",
        "\n",
        "dataset.set_split('train')\n",
        "train_bar = tqdm.notebook.tqdm(desc='split=train',\n",
        "                          total=dataset.get_num_batches(args.batch_size),\n",
        "                          position=1,\n",
        "                          leave=True)\n",
        "dataset.set_split('val')\n",
        "val_bar = tqdm.notebook.tqdm(desc='split=val',\n",
        "                        total=dataset.get_num_batches(args.batch_size),\n",
        "                        position=1,\n",
        "                        leave=True)\n",
        "\n",
        "losses = {'train':[], 'val':[]}\n",
        "\n",
        "try:\n",
        "    for epoch_index in range(args.num_epochs):\n",
        "        train_state['epoch_index'] = epoch_index\n",
        "\n",
        "        # Iterate over training dataset\n",
        "\n",
        "        # setup: batch generator, set loss and acc to 0, set train mode on\n",
        "        dataset.set_split('train')\n",
        "        batch_generator = generate_batches(dataset,\n",
        "                                           batch_size=args.batch_size,\n",
        "                                           device=args.device)\n",
        "        running_loss = 0.0\n",
        "        running_acc = 0.0\n",
        "        classifier.train()\n",
        "\n",
        "        for batch_index, batch_dict in enumerate(batch_generator):\n",
        "            # the training routine is these 5 steps:\n",
        "\n",
        "            # --------------------------------------\n",
        "            # step 1. zero the gradients\n",
        "            optimizer.zero_grad()\n",
        "\n",
        "            # step 2. compute the output\n",
        "            y_pred = classifier(x_in=batch_dict['x_data'].float())\n",
        "\n",
        "            # step 3. compute the loss\n",
        "            loss = loss_func(y_pred, batch_dict['y_target'].float())\n",
        "            loss_t = loss.item()\n",
        "            losses['train'].append(loss_t)\n",
        "            running_loss += (loss_t - running_loss) / (batch_index + 1)\n",
        "\n",
        "            # step 4. use loss to produce gradients\n",
        "            loss.backward()\n",
        "\n",
        "            # step 5. use optimizer to take gradient step\n",
        "            optimizer.step()\n",
        "            # -----------------------------------------\n",
        "            # compute the accuracy\n",
        "            acc_t = compute_accuracy(y_pred, batch_dict['y_target'])\n",
        "            running_acc += (acc_t - running_acc) / (batch_index + 1)\n",
        "\n",
        "            # update bar\n",
        "            train_bar.set_postfix(loss=running_loss,\n",
        "                                  acc=running_acc,\n",
        "                                  epoch=epoch_index)\n",
        "            train_bar.update()\n",
        "\n",
        "        train_state['train_loss'].append(running_loss)\n",
        "        train_state['train_acc'].append(running_acc)\n",
        "\n",
        "        # Iterate over val dataset\n",
        "\n",
        "        # setup: batch generator, set loss and acc to 0; set eval mode on\n",
        "        dataset.set_split('val')\n",
        "        batch_generator = generate_batches(dataset,\n",
        "                                           batch_size=args.batch_size,\n",
        "                                           device=args.device)\n",
        "        running_loss = 0.\n",
        "        running_acc = 0.\n",
        "        classifier.eval()\n",
        "\n",
        "        for batch_index, batch_dict in enumerate(batch_generator):\n",
        "\n",
        "            # compute the output\n",
        "            y_pred = classifier(x_in=batch_dict['x_data'].float())\n",
        "\n",
        "            # step 3. compute the loss\n",
        "            loss = loss_func(y_pred, batch_dict['y_target'].float())\n",
        "            loss_t = loss.item()\n",
        "            losses['val'].append(loss_t)\n",
        "            running_loss += (loss_t - running_loss) / (batch_index + 1)\n",
        "\n",
        "            # compute the accuracy\n",
        "            acc_t = compute_accuracy(y_pred, batch_dict['y_target'])\n",
        "            running_acc += (acc_t - running_acc) / (batch_index + 1)\n",
        "\n",
        "            val_bar.set_postfix(loss=running_loss,\n",
        "                                acc=running_acc,\n",
        "                                epoch=epoch_index)\n",
        "            val_bar.update()\n",
        "\n",
        "        train_state['val_loss'].append(running_loss)\n",
        "        train_state['val_acc'].append(running_acc)\n",
        "\n",
        "        train_state = update_train_state(args=args, model=classifier,\n",
        "                                         train_state=train_state)\n",
        "\n",
        "        scheduler.step(train_state['val_loss'][-1])\n",
        "        #optimizer.step()\n",
        "\n",
        "        train_bar.n = 0\n",
        "        val_bar.n = 0\n",
        "\n",
        "        if train_state['stop_early']:\n",
        "            print(\"Stopping early - validation is no longer significantly improving\")\n",
        "            break\n",
        "\n",
        "        train_bar.n = 0\n",
        "        val_bar.n = 0\n",
        "        epoch_bar.update()\n",
        "except KeyboardInterrupt:\n",
        "    print(\"Exiting loop\")"
      ]
    },
    {
      "cell_type": "code",
      "execution_count": null,
      "metadata": {
        "execution": {
          "iopub.execute_input": "2025-02-06T02:52:59.997537Z",
          "iopub.status.busy": "2025-02-06T02:52:59.997057Z",
          "iopub.status.idle": "2025-02-06T02:53:00.284186Z",
          "shell.execute_reply": "2025-02-06T02:53:00.283372Z",
          "shell.execute_reply.started": "2025-02-06T02:52:59.997511Z"
        },
        "trusted": true,
        "id": "ExBukW5DqvAG",
        "colab": {
          "base_uri": "https://localhost:8080/",
          "height": 406
        },
        "outputId": "a3a0b2ea-7142-4065-de9d-fece62ad4a28"
      },
      "outputs": [
        {
          "output_type": "execute_result",
          "data": {
            "text/plain": [
              "<matplotlib.legend.Legend at 0x79d5663aead0>"
            ]
          },
          "metadata": {},
          "execution_count": 24
        },
        {
          "output_type": "display_data",
          "data": {
            "text/plain": [
              "<Figure size 1500x400 with 1 Axes>"
            ],
            "image/png": "[encoded data removed]"
          },
          "metadata": {}
        }
      ],
      "source": [
        "matplotlib.rc('figure', figsize=(15,4))\n",
        "val_ticks = [(i+1)*len(losses['train'])/len(losses['val']) for i in range(len(losses['val']))]\n",
        "plt.plot(range(len(losses['train'])), losses['train'], c='blue')\n",
        "plt.plot(val_ticks, losses['val'], c='orange')\n",
        "for i in range(args.num_epochs):\n",
        "    plt.axvline(x=i*len(losses['train'])/args.num_epochs, c='black', lw=0.25)\n",
        "plt.ylabel('Loss')\n",
        "plt.xlabel('Epoch and Batch')\n",
        "plt.legend(('Train','Validation'))"
      ]
    },
    {
      "cell_type": "code",
      "execution_count": null,
      "metadata": {
        "execution": {
          "iopub.execute_input": "2025-02-06T03:08:32.363889Z",
          "iopub.status.busy": "2025-02-06T03:08:32.363531Z",
          "iopub.status.idle": "2025-02-06T03:08:33.569288Z",
          "shell.execute_reply": "2025-02-06T03:08:33.568521Z",
          "shell.execute_reply.started": "2025-02-06T03:08:32.363861Z"
        },
        "id": "ebyowdaEuyB9",
        "trusted": true
      },
      "outputs": [],
      "source": [
        "# compute the loss & accuracy on the test set using the best available model\n",
        "\n",
        "classifier.load_state_dict(torch.load(train_state['model_filename'], weights_only=True))\n",
        "classifier = classifier.to(args.device)\n",
        "\n",
        "dataset.set_split('test')\n",
        "batch_generator = generate_batches(dataset,\n",
        "                                   batch_size=args.batch_size,\n",
        "                                   device=args.device)\n",
        "running_loss = 0.\n",
        "running_acc = 0.\n",
        "classifier.eval()\n",
        "\n",
        "for batch_index, batch_dict in enumerate(batch_generator):\n",
        "    # compute the output\n",
        "    y_pred = classifier(x_in=batch_dict['x_data'].float())\n",
        "\n",
        "    # compute the loss\n",
        "    loss = loss_func(y_pred, batch_dict['y_target'].float())\n",
        "    loss_t = loss.item()\n",
        "    running_loss += (loss_t - running_loss) / (batch_index + 1)\n",
        "\n",
        "    # compute the accuracy\n",
        "    acc_t = compute_accuracy(y_pred, batch_dict['y_target'])\n",
        "    running_acc += (acc_t - running_acc) / (batch_index + 1)\n",
        "\n",
        "train_state['test_loss'] = running_loss\n",
        "train_state['test_acc'] = running_acc"
      ]
    },
    {
      "cell_type": "code",
      "execution_count": null,
      "metadata": {
        "execution": {
          "iopub.execute_input": "2025-02-06T03:08:35.773646Z",
          "iopub.status.busy": "2025-02-06T03:08:35.773326Z",
          "iopub.status.idle": "2025-02-06T03:08:35.778296Z",
          "shell.execute_reply": "2025-02-06T03:08:35.777041Z",
          "shell.execute_reply.started": "2025-02-06T03:08:35.773623Z"
        },
        "id": "8Hx7WA3RuyB-",
        "trusted": true,
        "colab": {
          "base_uri": "https://localhost:8080/"
        },
        "outputId": "0ea9fc5a-59e5-4a88-c009-e6623874c4b6"
      },
      "outputs": [
        {
          "output_type": "stream",
          "name": "stdout",
          "text": [
            "Test loss: 0.337\n",
            "Test Accuracy: 90.16\n"
          ]
        }
      ],
      "source": [
        "print(\"Test loss: {:.3f}\".format(train_state['test_loss']))\n",
        "print(\"Test Accuracy: {:.2f}\".format(train_state['test_acc']))"
      ]
    },
    {
      "cell_type": "markdown",
      "metadata": {
        "id": "rXPsjUYbuyB-"
      },
      "source": [
        "### Inference"
      ]
    },
    {
      "cell_type": "code",
      "execution_count": null,
      "metadata": {
        "execution": {
          "iopub.execute_input": "2025-02-06T02:53:44.174236Z",
          "iopub.status.busy": "2025-02-06T02:53:44.173932Z",
          "iopub.status.idle": "2025-02-06T02:53:44.178530Z",
          "shell.execute_reply": "2025-02-06T02:53:44.177485Z",
          "shell.execute_reply.started": "2025-02-06T02:53:44.174213Z"
        },
        "id": "nrqWhrFSuyB-",
        "trusted": true
      },
      "outputs": [],
      "source": [
        "def preprocess_text(text):\n",
        "    text = text.lower()\n",
        "    text = re.sub(r\"([.,!?])\", r\" \\1 \", text)\n",
        "    text = re.sub(r\"[^a-zA-Z.,!?]+\", r\" \", text)\n",
        "    return text"
      ]
    },
    {
      "cell_type": "code",
      "execution_count": null,
      "metadata": {
        "execution": {
          "iopub.execute_input": "2025-02-06T03:09:02.359034Z",
          "iopub.status.busy": "2025-02-06T03:09:02.358625Z",
          "iopub.status.idle": "2025-02-06T03:09:02.363963Z",
          "shell.execute_reply": "2025-02-06T03:09:02.362943Z",
          "shell.execute_reply.started": "2025-02-06T03:09:02.359006Z"
        },
        "id": "uk1hkp7quyB_",
        "trusted": true
      },
      "outputs": [],
      "source": [
        "def predict_rating(review, classifier, vectorizer, decision_threshold=0.5):\n",
        "    \"\"\"Predict the rating of a review\n",
        "\n",
        "    Args:\n",
        "        review (str): the text of the review\n",
        "        classifier (ReviewClassifier): the trained model\n",
        "        vectorizer (ReviewVectorizer): the corresponding vectorizer\n",
        "        decision_threshold (float): The numerical boundary which separates the rating classes\n",
        "    \"\"\"\n",
        "    review = preprocess_text(review)\n",
        "\n",
        "    vectorized_review = torch.tensor(vectorizer.vectorize(review))\n",
        "    result = classifier(vectorized_review.view(1, -1))\n",
        "\n",
        "    probability_value = torch.sigmoid(result).item()\n",
        "    index = 1\n",
        "    if probability_value < decision_threshold:\n",
        "        index = 0\n",
        "\n",
        "    return vectorizer.rating_vocab.lookup_index(index)"
      ]
    },
    {
      "cell_type": "code",
      "execution_count": null,
      "metadata": {
        "execution": {
          "iopub.execute_input": "2025-02-06T03:20:47.319327Z",
          "iopub.status.busy": "2025-02-06T03:20:47.319000Z",
          "iopub.status.idle": "2025-02-06T03:20:47.330495Z",
          "shell.execute_reply": "2025-02-06T03:20:47.329678Z",
          "shell.execute_reply.started": "2025-02-06T03:20:47.319298Z"
        },
        "id": "SRKd2SjBuyB_",
        "trusted": true,
        "colab": {
          "base_uri": "https://localhost:8080/"
        },
        "outputId": "1d0193f8-51af-42f0-cb63-344890522397"
      },
      "outputs": [
        {
          "output_type": "stream",
          "name": "stdout",
          "text": [
            "the floors were a little bit dirty, but the food was far above average -> negative\n"
          ]
        }
      ],
      "source": [
        "#test_review = \"this is not a pretty awesome restaurant\"\n",
        "test_review = \"the floors were a little bit dirty, but the food was far above average\"\n",
        "#test_review = \"pizza century yum\"\n",
        "\n",
        "classifier = classifier.cpu()\n",
        "prediction = predict_rating(test_review, classifier, vectorizer, decision_threshold=0.5)\n",
        "print(\"{} -> {}\".format(test_review, prediction))"
      ]
    },
    {
      "cell_type": "markdown",
      "metadata": {
        "id": "EUI4yXQBuyB_"
      },
      "source": [
        "### Interpretability\n",
        "\n",
        "Let's look at the weigh values themselves to see if we can gain some kind of interpretability about the network. It's far from a legitimate form of model explainability, but just looking at the magnitudes of the weight values can tell us something. Namely, values farther away from zero will have greater impact in the subsequent layer, and (presumably) eventually the output.\n",
        "\n",
        "We'll first look at large (positive) values, but since it's only the magnitude that has an effect we don't know for certain if these will correspond to positive sounding words or negative sounding words (i.e. words that will be associated with a positive/negative yelp review)."
      ]
    },
    {
      "cell_type": "code",
      "execution_count": null,
      "metadata": {
        "execution": {
          "iopub.execute_input": "2025-02-06T03:24:33.246068Z",
          "iopub.status.busy": "2025-02-06T03:24:33.245745Z",
          "iopub.status.idle": "2025-02-06T03:24:33.263597Z",
          "shell.execute_reply": "2025-02-06T03:24:33.262734Z",
          "shell.execute_reply.started": "2025-02-06T03:24:33.246042Z"
        },
        "id": "uyBKYVokuyCA",
        "trusted": true,
        "colab": {
          "base_uri": "https://localhost:8080/"
        },
        "outputId": "c69763b0-4286-4831-cd6a-b2a579e670f1"
      },
      "outputs": [
        {
          "output_type": "stream",
          "name": "stdout",
          "text": [
            "Tokens with lowest corresponding parameter values (in first hidden unit of first layer):\n",
            "-------------------------------------------------------------\n",
            "w_0: -0.0914, token: unimpressed\n",
            "w_1: -0.0891, token: nmaybe\n",
            "w_2: -0.0852, token: meh\n",
            "w_3: -0.0814, token: whatsoever\n",
            "w_4: -0.0808, token: disorganized\n",
            "w_5: -0.0800, token: worst\n",
            "w_6: -0.0798, token: unprofessional\n",
            "w_7: -0.0791, token: inedible\n",
            "w_8: -0.0786, token: awful\n",
            "w_9: -0.0786, token: overrated\n",
            "w_10: -0.0782, token: appalled\n",
            "w_11: -0.0759, token: underwhelmed\n",
            "w_12: -0.0757, token: nsorry\n",
            "w_13: -0.0737, token: tasteless\n",
            "w_14: -0.0736, token: mediocre\n",
            "w_15: -0.0708, token: ghost\n",
            "w_16: -0.0695, token: blech\n",
            "w_17: -0.0694, token: texting\n",
            "w_18: -0.0691, token: redeeming\n",
            "w_19: -0.0684, token: positives\n",
            "\n",
            "\n",
            "Tokens with highest corresponding parameter values (in first hidden unit of first layer):\n",
            "-------------------------------------------------------------\n",
            "w_0: 0.0964, token: moist\n",
            "w_1: 0.0852, token: boba\n",
            "w_2: 0.0841, token: rocked\n",
            "w_3: 0.0839, token: pleasantly\n",
            "w_4: 0.0834, token: unpretentious\n",
            "w_5: 0.0831, token: rosemary\n",
            "w_6: 0.0765, token: features\n",
            "w_7: 0.0760, token: excellent\n",
            "w_8: 0.0759, token: quicker\n",
            "w_9: 0.0744, token: mmmm\n",
            "w_10: 0.0744, token: painless\n",
            "w_11: 0.0737, token: luv\n",
            "w_12: 0.0732, token: ngreat\n",
            "w_13: 0.0727, token: reasonably\n",
            "w_14: 0.0722, token: hooked\n",
            "w_15: 0.0715, token: chihuly\n",
            "w_16: 0.0712, token: lasts\n",
            "w_17: 0.0700, token: delicious\n",
            "w_18: 0.0699, token: brian\n",
            "w_19: 0.0695, token: intimate\n"
          ]
        }
      ],
      "source": [
        "# Look at weights for first hidden unit in first hidden layer\n",
        "fc1_weights = classifier.fc1.weight.detach()[0]\n",
        "_, indices = torch.sort(fc1_weights, dim=0, descending=False)\n",
        "indices = indices.numpy().tolist()\n",
        "\n",
        "# Top 20 words\n",
        "print(\"Tokens with lowest corresponding parameter values (in first hidden unit of first layer):\")\n",
        "print(\"-------------------------------------------------------------\")\n",
        "for i in range(20):\n",
        "    print(f\"w_{i}: {fc1_weights[indices[i]]:.4f}, token: {vectorizer.review_vocab.lookup_index(indices[i])}\")\n",
        "\n",
        "indices.reverse()\n",
        "\n",
        "# Top 20 negative words\n",
        "print(\"\\n\\nTokens with highest corresponding parameter values (in first hidden unit of first layer):\")\n",
        "print(\"-------------------------------------------------------------\")\n",
        "\n",
        "for i in range(20):\n",
        "    print(f\"w_{i}: {fc1_weights[indices[i]]:.4f}, token: {vectorizer.review_vocab.lookup_index(indices[i])}\")\n",
        "    #print(vectorizer.review_vocab.lookup_index(indices[i]))"
      ]
    },
    {
      "cell_type": "code",
      "execution_count": null,
      "metadata": {
        "execution": {
          "iopub.execute_input": "2025-02-06T03:10:06.508231Z",
          "iopub.status.busy": "2025-02-06T03:10:06.507888Z",
          "iopub.status.idle": "2025-02-06T03:10:06.518481Z",
          "shell.execute_reply": "2025-02-06T03:10:06.517722Z",
          "shell.execute_reply.started": "2025-02-06T03:10:06.508201Z"
        },
        "id": "p51xqW1PSuoa",
        "trusted": true,
        "colab": {
          "base_uri": "https://localhost:8080/"
        },
        "outputId": "55d35a51-7d3a-4dd2-f93c-7844b1e649b5"
      },
      "outputs": [
        {
          "output_type": "stream",
          "name": "stdout",
          "text": [
            "Collecting torchinfo\n",
            "  Downloading torchinfo-1.8.0-py3-none-any.whl.metadata (21 kB)\n",
            "Downloading torchinfo-1.8.0-py3-none-any.whl (23 kB)\n",
            "Installing collected packages: torchinfo\n",
            "Successfully installed torchinfo-1.8.0\n"
          ]
        },
        {
          "output_type": "execute_result",
          "data": {
            "text/plain": [
              "==========================================================================================\n",
              "Layer (type:depth-idx)                   Output Shape              Param #\n",
              "==========================================================================================\n",
              "ReviewClassifier                         --                        --\n",
              "├─Linear: 1-1                            [1, 128]                  1,041,664\n",
              "├─Linear: 1-2                            [1, 64]                   8,256\n",
              "├─Linear: 1-3                            [1, 16]                   1,040\n",
              "├─Linear: 1-4                            [1, 1]                    17\n",
              "==========================================================================================\n",
              "Total params: 1,050,977\n",
              "Trainable params: 1,050,977\n",
              "Non-trainable params: 0\n",
              "Total mult-adds (Units.MEGABYTES): 1.05\n",
              "==========================================================================================\n",
              "Input size (MB): 0.03\n",
              "Forward/backward pass size (MB): 0.00\n",
              "Params size (MB): 4.20\n",
              "Estimated Total Size (MB): 4.24\n",
              "=========================================================================================="
            ]
          },
          "metadata": {},
          "execution_count": 31
        }
      ],
      "source": [
        "# if this cell does not run the first time, then uncomment the following line and re-run it\n",
        "!pip install torchinfo\n",
        "import torchinfo\n",
        "summ = torchinfo.summary(classifier, (1, dataset[0]['x_data'].shape[0]))\n",
        "summ"
      ]
    },
    {
      "cell_type": "code",
      "execution_count": null,
      "metadata": {
        "execution": {
          "iopub.execute_input": "2025-02-06T03:10:08.071299Z",
          "iopub.status.busy": "2025-02-06T03:10:08.070997Z",
          "iopub.status.idle": "2025-02-06T03:10:08.076937Z",
          "shell.execute_reply": "2025-02-06T03:10:08.075950Z",
          "shell.execute_reply.started": "2025-02-06T03:10:08.071276Z"
        },
        "trusted": true,
        "id": "ypTdIZd4qvAH",
        "colab": {
          "base_uri": "https://localhost:8080/"
        },
        "outputId": "5624aec9-6e6a-4428-9783-6051ac03c065"
      },
      "outputs": [
        {
          "output_type": "execute_result",
          "data": {
            "text/plain": [
              "1041664"
            ]
          },
          "metadata": {},
          "execution_count": 32
        }
      ],
      "source": [
        "n_params_in_layer1_weighmatrix = 8137 * 128\n",
        "n_params_in_layer1_bias_vector = 128\n",
        "n_params_in_layer1_weighmatrix + n_params_in_layer1_bias_vector"
      ]
    },
    {
      "cell_type": "code",
      "execution_count": null,
      "metadata": {
        "execution": {
          "iopub.execute_input": "2025-02-06T02:55:20.264694Z",
          "iopub.status.busy": "2025-02-06T02:55:20.264389Z",
          "iopub.status.idle": "2025-02-06T02:55:20.269894Z",
          "shell.execute_reply": "2025-02-06T02:55:20.269068Z",
          "shell.execute_reply.started": "2025-02-06T02:55:20.264671Z"
        },
        "trusted": true,
        "id": "4GzCgZlBqvAH",
        "colab": {
          "base_uri": "https://localhost:8080/"
        },
        "outputId": "29e757ce-4857-4ccc-cbba-4bae8d85ef41"
      },
      "outputs": [
        {
          "output_type": "execute_result",
          "data": {
            "text/plain": [
              "2048"
            ]
          },
          "metadata": {},
          "execution_count": 33
        }
      ],
      "source": [
        "128 * 16 # without a bias terms i.e. without + 16"
      ]
    },
    {
      "cell_type": "code",
      "execution_count": null,
      "metadata": {
        "execution": {
          "iopub.execute_input": "2025-02-06T02:55:40.587629Z",
          "iopub.status.busy": "2025-02-06T02:55:40.587287Z",
          "iopub.status.idle": "2025-02-06T02:55:40.593249Z",
          "shell.execute_reply": "2025-02-06T02:55:40.592501Z",
          "shell.execute_reply.started": "2025-02-06T02:55:40.587603Z"
        },
        "trusted": true,
        "id": "E5Wo03BFqvAI",
        "colab": {
          "base_uri": "https://localhost:8080/"
        },
        "outputId": "d9ad561c-4696-4f3a-8990-2483453e09a3"
      },
      "outputs": [
        {
          "output_type": "execute_result",
          "data": {
            "text/plain": [
              "8137"
            ]
          },
          "metadata": {},
          "execution_count": 34
        }
      ],
      "source": [
        "dataset[0]['x_data'].shape[0]"
      ]
    },
    {
      "cell_type": "markdown",
      "metadata": {
        "id": "Fc-6bP4QuyCB"
      },
      "source": [
        "### End\n",
        "\n",
        "Before finishing let's quickly look at the weight matrix in the first layer."
      ]
    },
    {
      "cell_type": "code",
      "execution_count": null,
      "metadata": {
        "execution": {
          "iopub.execute_input": "2025-02-06T03:10:52.256631Z",
          "iopub.status.busy": "2025-02-06T03:10:52.256280Z",
          "iopub.status.idle": "2025-02-06T03:10:52.262489Z",
          "shell.execute_reply": "2025-02-06T03:10:52.261662Z",
          "shell.execute_reply.started": "2025-02-06T03:10:52.256601Z"
        },
        "trusted": true,
        "id": "-Jz0dHvUqvAI",
        "colab": {
          "base_uri": "https://localhost:8080/",
          "height": 179
        },
        "outputId": "02556dbf-b69e-4280-c423-0db5d3475288"
      },
      "outputs": [
        {
          "output_type": "error",
          "ename": "IndexError",
          "evalue": "index 5820 is out of bounds for dimension 0 with size 128",
          "traceback": [
            "\u001b[0;31m---------------------------------------------------------------------------\u001b[0m",
            "\u001b[0;31mIndexError\u001b[0m                                Traceback (most recent call last)",
            "\u001b[0;32m<ipython-input-35-f63ec2247cf8>\u001b[0m in \u001b[0;36m<cell line: 0>\u001b[0;34m()\u001b[0m\n\u001b[1;32m      1\u001b[0m \u001b[0mfc1_weights\u001b[0m \u001b[0;34m=\u001b[0m \u001b[0mclassifier\u001b[0m\u001b[0;34m.\u001b[0m\u001b[0mfc1\u001b[0m\u001b[0;34m.\u001b[0m\u001b[0mweight\u001b[0m\u001b[0;34m.\u001b[0m\u001b[0mdetach\u001b[0m\u001b[0;34m(\u001b[0m\u001b[0;34m)\u001b[0m\u001b[0;34m\u001b[0m\u001b[0;34m\u001b[0m\u001b[0m\n\u001b[1;32m      2\u001b[0m \u001b[0mfc1_weights\u001b[0m\u001b[0;34m.\u001b[0m\u001b[0mshape\u001b[0m\u001b[0;34m\u001b[0m\u001b[0;34m\u001b[0m\u001b[0m\n\u001b[0;32m----> 3\u001b[0;31m \u001b[0mfc1_weights\u001b[0m\u001b[0;34m[\u001b[0m\u001b[0mindices\u001b[0m\u001b[0;34m]\u001b[0m\u001b[0;34m.\u001b[0m\u001b[0mtolist\u001b[0m\u001b[0;34m(\u001b[0m\u001b[0;34m)\u001b[0m\u001b[0;34m\u001b[0m\u001b[0;34m\u001b[0m\u001b[0m\n\u001b[0m",
            "\u001b[0;31mIndexError\u001b[0m: index 5820 is out of bounds for dimension 0 with size 128"
          ]
        }
      ],
      "source": [
        "fc1_weights = classifier.fc1.weight.detach()\n",
        "fc1_weights.shape\n",
        "fc1_weights[indices].tolist()"
      ]
    }
  ],
  "metadata": {
    "colab": {
      "provenance": [],
      "include_colab_link": true
    },
    "kaggle": {
      "accelerator": "gpu",
      "dataSources": [],
      "dockerImageVersionId": 30840,
      "isGpuEnabled": true,
      "isInternetEnabled": true,
      "language": "python",
      "sourceType": "notebook"
    },
    "kernelspec": {
      "display_name": "Python 3",
      "language": "python",
      "name": "python3"
    },
    "language_info": {
      "codemirror_mode": {
        "name": "ipython",
        "version": 3
      },
      "file_extension": ".py",
      "mimetype": "text/x-python",
      "name": "python",
      "nbconvert_exporter": "python",
      "pygments_lexer": "ipython3",
      "version": "3.10.12"
    },
    "toc": {
      "colors": {
        "hover_highlight": "#DAA520",
        "running_highlight": "#FF0000",
        "selected_highlight": "#FFD700"
      },
      "moveMenuLeft": true,
      "nav_menu": {
        "height": "156px",
        "width": "252px"
      },
      "navigate_menu": true,
      "number_sections": true,
      "sideBar": true,
      "threshold": "5",
      "toc_cell": false,
      "toc_section_display": "block",
      "toc_window_display": false
    },
    "widgets": {
      "application/vnd.jupyter.widget-state+json": {
        "e6c8511117be4319b6543bc16f27f632": {
          "model_module": "@jupyter-widgets/controls",
          "model_name": "HBoxModel",
          "model_module_version": "1.5.0",
          "state": {
            "_dom_classes": [],
            "_model_module": "@jupyter-widgets/controls",
            "_model_module_version": "1.5.0",
            "_model_name": "HBoxModel",
            "_view_count": null,
            "_view_module": "@jupyter-widgets/controls",
            "_view_module_version": "1.5.0",
            "_view_name": "HBoxView",
            "box_style": "",
            "children": [
              "IPY_MODEL_6c04d314b0ff46278350836f19a60a98",
              "IPY_MODEL_ff301a29840145d6b422e6a56a283bca",
              "IPY_MODEL_d954b4602dca4bfc8901952468194839"
            ],
            "layout": "IPY_MODEL_255feaaa1f844a80b1a31c8f558f2c85"
          }
        },
        "6c04d314b0ff46278350836f19a60a98": {
          "model_module": "@jupyter-widgets/controls",
          "model_name": "HTMLModel",
          "model_module_version": "1.5.0",
          "state": {
            "_dom_classes": [],
            "_model_module": "@jupyter-widgets/controls",
            "_model_module_version": "1.5.0",
            "_model_name": "HTMLModel",
            "_view_count": null,
            "_view_module": "@jupyter-widgets/controls",
            "_view_module_version": "1.5.0",
            "_view_name": "HTMLView",
            "description": "",
            "description_tooltip": null,
            "layout": "IPY_MODEL_556f3e958ed8495d99b94e6c843ac1ef",
            "placeholder": "​",
            "style": "IPY_MODEL_89bccb8d6e744346950b644d59108107",
            "value": "training routine: 100%"
          }
        },
        "ff301a29840145d6b422e6a56a283bca": {
          "model_module": "@jupyter-widgets/controls",
          "model_name": "FloatProgressModel",
          "model_module_version": "1.5.0",
          "state": {
            "_dom_classes": [],
            "_model_module": "@jupyter-widgets/controls",
            "_model_module_version": "1.5.0",
            "_model_name": "FloatProgressModel",
            "_view_count": null,
            "_view_module": "@jupyter-widgets/controls",
            "_view_module_version": "1.5.0",
            "_view_name": "ProgressView",
            "bar_style": "",
            "description": "",
            "description_tooltip": null,
            "layout": "IPY_MODEL_d01f147481d54bec9b43f7de122a88d1",
            "max": 6,
            "min": 0,
            "orientation": "horizontal",
            "style": "IPY_MODEL_41de6d2bddaf4158a3dbd2a0fce3164d",
            "value": 6
          }
        },
        "d954b4602dca4bfc8901952468194839": {
          "model_module": "@jupyter-widgets/controls",
          "model_name": "HTMLModel",
          "model_module_version": "1.5.0",
          "state": {
            "_dom_classes": [],
            "_model_module": "@jupyter-widgets/controls",
            "_model_module_version": "1.5.0",
            "_model_name": "HTMLModel",
            "_view_count": null,
            "_view_module": "@jupyter-widgets/controls",
            "_view_module_version": "1.5.0",
            "_view_name": "HTMLView",
            "description": "",
            "description_tooltip": null,
            "layout": "IPY_MODEL_95e0ce8abc3d493aa8856b2571bcc9b7",
            "placeholder": "​",
            "style": "IPY_MODEL_e0bd416b763b458284f28714eca557f4",
            "value": " 6/6 [01:24&lt;00:00, 13.60s/it]"
          }
        },
        "255feaaa1f844a80b1a31c8f558f2c85": {
          "model_module": "@jupyter-widgets/base",
          "model_name": "LayoutModel",
          "model_module_version": "1.2.0",
          "state": {
            "_model_module": "@jupyter-widgets/base",
            "_model_module_version": "1.2.0",
            "_model_name": "LayoutModel",
            "_view_count": null,
            "_view_module": "@jupyter-widgets/base",
            "_view_module_version": "1.2.0",
            "_view_name": "LayoutView",
            "align_content": null,
            "align_items": null,
            "align_self": null,
            "border": null,
            "bottom": null,
            "display": null,
            "flex": null,
            "flex_flow": null,
            "grid_area": null,
            "grid_auto_columns": null,
            "grid_auto_flow": null,
            "grid_auto_rows": null,
            "grid_column": null,
            "grid_gap": null,
            "grid_row": null,
            "grid_template_areas": null,
            "grid_template_columns": null,
            "grid_template_rows": null,
            "height": null,
            "justify_content": null,
            "justify_items": null,
            "left": null,
            "margin": null,
            "max_height": null,
            "max_width": null,
            "min_height": null,
            "min_width": null,
            "object_fit": null,
            "object_position": null,
            "order": null,
            "overflow": null,
            "overflow_x": null,
            "overflow_y": null,
            "padding": null,
            "right": null,
            "top": null,
            "visibility": null,
            "width": null
          }
        },
        "556f3e958ed8495d99b94e6c843ac1ef": {
          "model_module": "@jupyter-widgets/base",
          "model_name": "LayoutModel",
          "model_module_version": "1.2.0",
          "state": {
            "_model_module": "@jupyter-widgets/base",
            "_model_module_version": "1.2.0",
            "_model_name": "LayoutModel",
            "_view_count": null,
            "_view_module": "@jupyter-widgets/base",
            "_view_module_version": "1.2.0",
            "_view_name": "LayoutView",
            "align_content": null,
            "align_items": null,
            "align_self": null,
            "border": null,
            "bottom": null,
            "display": null,
            "flex": null,
            "flex_flow": null,
            "grid_area": null,
            "grid_auto_columns": null,
            "grid_auto_flow": null,
            "grid_auto_rows": null,
            "grid_column": null,
            "grid_gap": null,
            "grid_row": null,
            "grid_template_areas": null,
            "grid_template_columns": null,
            "grid_template_rows": null,
            "height": null,
            "justify_content": null,
            "justify_items": null,
            "left": null,
            "margin": null,
            "max_height": null,
            "max_width": null,
            "min_height": null,
            "min_width": null,
            "object_fit": null,
            "object_position": null,
            "order": null,
            "overflow": null,
            "overflow_x": null,
            "overflow_y": null,
            "padding": null,
            "right": null,
            "top": null,
            "visibility": null,
            "width": null
          }
        },
        "89bccb8d6e744346950b644d59108107": {
          "model_module": "@jupyter-widgets/controls",
          "model_name": "DescriptionStyleModel",
          "model_module_version": "1.5.0",
          "state": {
            "_model_module": "@jupyter-widgets/controls",
            "_model_module_version": "1.5.0",
            "_model_name": "DescriptionStyleModel",
            "_view_count": null,
            "_view_module": "@jupyter-widgets/base",
            "_view_module_version": "1.2.0",
            "_view_name": "StyleView",
            "description_width": ""
          }
        },
        "d01f147481d54bec9b43f7de122a88d1": {
          "model_module": "@jupyter-widgets/base",
          "model_name": "LayoutModel",
          "model_module_version": "1.2.0",
          "state": {
            "_model_module": "@jupyter-widgets/base",
            "_model_module_version": "1.2.0",
            "_model_name": "LayoutModel",
            "_view_count": null,
            "_view_module": "@jupyter-widgets/base",
            "_view_module_version": "1.2.0",
            "_view_name": "LayoutView",
            "align_content": null,
            "align_items": null,
            "align_self": null,
            "border": null,
            "bottom": null,
            "display": null,
            "flex": null,
            "flex_flow": null,
            "grid_area": null,
            "grid_auto_columns": null,
            "grid_auto_flow": null,
            "grid_auto_rows": null,
            "grid_column": null,
            "grid_gap": null,
            "grid_row": null,
            "grid_template_areas": null,
            "grid_template_columns": null,
            "grid_template_rows": null,
            "height": null,
            "justify_content": null,
            "justify_items": null,
            "left": null,
            "margin": null,
            "max_height": null,
            "max_width": null,
            "min_height": null,
            "min_width": null,
            "object_fit": null,
            "object_position": null,
            "order": null,
            "overflow": null,
            "overflow_x": null,
            "overflow_y": null,
            "padding": null,
            "right": null,
            "top": null,
            "visibility": null,
            "width": null
          }
        },
        "41de6d2bddaf4158a3dbd2a0fce3164d": {
          "model_module": "@jupyter-widgets/controls",
          "model_name": "ProgressStyleModel",
          "model_module_version": "1.5.0",
          "state": {
            "_model_module": "@jupyter-widgets/controls",
            "_model_module_version": "1.5.0",
            "_model_name": "ProgressStyleModel",
            "_view_count": null,
            "_view_module": "@jupyter-widgets/base",
            "_view_module_version": "1.2.0",
            "_view_name": "StyleView",
            "bar_color": null,
            "description_width": ""
          }
        },
        "95e0ce8abc3d493aa8856b2571bcc9b7": {
          "model_module": "@jupyter-widgets/base",
          "model_name": "LayoutModel",
          "model_module_version": "1.2.0",
          "state": {
            "_model_module": "@jupyter-widgets/base",
            "_model_module_version": "1.2.0",
            "_model_name": "LayoutModel",
            "_view_count": null,
            "_view_module": "@jupyter-widgets/base",
            "_view_module_version": "1.2.0",
            "_view_name": "LayoutView",
            "align_content": null,
            "align_items": null,
            "align_self": null,
            "border": null,
            "bottom": null,
            "display": null,
            "flex": null,
            "flex_flow": null,
            "grid_area": null,
            "grid_auto_columns": null,
            "grid_auto_flow": null,
            "grid_auto_rows": null,
            "grid_column": null,
            "grid_gap": null,
            "grid_row": null,
            "grid_template_areas": null,
            "grid_template_columns": null,
            "grid_template_rows": null,
            "height": null,
            "justify_content": null,
            "justify_items": null,
            "left": null,
            "margin": null,
            "max_height": null,
            "max_width": null,
            "min_height": null,
            "min_width": null,
            "object_fit": null,
            "object_position": null,
            "order": null,
            "overflow": null,
            "overflow_x": null,
            "overflow_y": null,
            "padding": null,
            "right": null,
            "top": null,
            "visibility": null,
            "width": null
          }
        },
        "e0bd416b763b458284f28714eca557f4": {
          "model_module": "@jupyter-widgets/controls",
          "model_name": "DescriptionStyleModel",
          "model_module_version": "1.5.0",
          "state": {
            "_model_module": "@jupyter-widgets/controls",
            "_model_module_version": "1.5.0",
            "_model_name": "DescriptionStyleModel",
            "_view_count": null,
            "_view_module": "@jupyter-widgets/base",
            "_view_module_version": "1.2.0",
            "_view_name": "StyleView",
            "description_width": ""
          }
        },
        "3b7142ec86b54efa98d103cb18ec3463": {
          "model_module": "@jupyter-widgets/controls",
          "model_name": "HBoxModel",
          "model_module_version": "1.5.0",
          "state": {
            "_dom_classes": [],
            "_model_module": "@jupyter-widgets/controls",
            "_model_module_version": "1.5.0",
            "_model_name": "HBoxModel",
            "_view_count": null,
            "_view_module": "@jupyter-widgets/controls",
            "_view_module_version": "1.5.0",
            "_view_name": "HBoxView",
            "box_style": "",
            "children": [
              "IPY_MODEL_70e1c5f9fde94eaaa64f91ed36b7c0f4",
              "IPY_MODEL_3ee01ae53187448999edd3596b1e0744",
              "IPY_MODEL_753b4c1bca874f3d895f7185098766d2"
            ],
            "layout": "IPY_MODEL_256bce104b054159a9d1bd20569cbbbd"
          }
        },
        "70e1c5f9fde94eaaa64f91ed36b7c0f4": {
          "model_module": "@jupyter-widgets/controls",
          "model_name": "HTMLModel",
          "model_module_version": "1.5.0",
          "state": {
            "_dom_classes": [],
            "_model_module": "@jupyter-widgets/controls",
            "_model_module_version": "1.5.0",
            "_model_name": "HTMLModel",
            "_view_count": null,
            "_view_module": "@jupyter-widgets/controls",
            "_view_module_version": "1.5.0",
            "_view_name": "HTMLView",
            "description": "",
            "description_tooltip": null,
            "layout": "IPY_MODEL_dd98fa3536274bf9b6c2fa25d7f9cd8c",
            "placeholder": "​",
            "style": "IPY_MODEL_e80c16322d004afeb14039cda88623b5",
            "value": "split=train:  97%"
          }
        },
        "3ee01ae53187448999edd3596b1e0744": {
          "model_module": "@jupyter-widgets/controls",
          "model_name": "FloatProgressModel",
          "model_module_version": "1.5.0",
          "state": {
            "_dom_classes": [],
            "_model_module": "@jupyter-widgets/controls",
            "_model_module_version": "1.5.0",
            "_model_name": "FloatProgressModel",
            "_view_count": null,
            "_view_module": "@jupyter-widgets/controls",
            "_view_module_version": "1.5.0",
            "_view_name": "ProgressView",
            "bar_style": "",
            "description": "",
            "description_tooltip": null,
            "layout": "IPY_MODEL_d3692d176aab45a587975b07fc4a0124",
            "max": 39,
            "min": 0,
            "orientation": "horizontal",
            "style": "IPY_MODEL_c802dad236d249cab95172be9d283cf1",
            "value": 38
          }
        },
        "753b4c1bca874f3d895f7185098766d2": {
          "model_module": "@jupyter-widgets/controls",
          "model_name": "HTMLModel",
          "model_module_version": "1.5.0",
          "state": {
            "_dom_classes": [],
            "_model_module": "@jupyter-widgets/controls",
            "_model_module_version": "1.5.0",
            "_model_name": "HTMLModel",
            "_view_count": null,
            "_view_module": "@jupyter-widgets/controls",
            "_view_module_version": "1.5.0",
            "_view_name": "HTMLView",
            "description": "",
            "description_tooltip": null,
            "layout": "IPY_MODEL_76965961648c492881141af7f83e23c4",
            "placeholder": "​",
            "style": "IPY_MODEL_6bb230f870fa4075acda6df774842ebd",
            "value": " 38/39 [01:22&lt;00:00,  2.57it/s, acc=97, epoch=5, loss=0.09]"
          }
        },
        "256bce104b054159a9d1bd20569cbbbd": {
          "model_module": "@jupyter-widgets/base",
          "model_name": "LayoutModel",
          "model_module_version": "1.2.0",
          "state": {
            "_model_module": "@jupyter-widgets/base",
            "_model_module_version": "1.2.0",
            "_model_name": "LayoutModel",
            "_view_count": null,
            "_view_module": "@jupyter-widgets/base",
            "_view_module_version": "1.2.0",
            "_view_name": "LayoutView",
            "align_content": null,
            "align_items": null,
            "align_self": null,
            "border": null,
            "bottom": null,
            "display": null,
            "flex": null,
            "flex_flow": null,
            "grid_area": null,
            "grid_auto_columns": null,
            "grid_auto_flow": null,
            "grid_auto_rows": null,
            "grid_column": null,
            "grid_gap": null,
            "grid_row": null,
            "grid_template_areas": null,
            "grid_template_columns": null,
            "grid_template_rows": null,
            "height": null,
            "justify_content": null,
            "justify_items": null,
            "left": null,
            "margin": null,
            "max_height": null,
            "max_width": null,
            "min_height": null,
            "min_width": null,
            "object_fit": null,
            "object_position": null,
            "order": null,
            "overflow": null,
            "overflow_x": null,
            "overflow_y": null,
            "padding": null,
            "right": null,
            "top": null,
            "visibility": null,
            "width": null
          }
        },
        "dd98fa3536274bf9b6c2fa25d7f9cd8c": {
          "model_module": "@jupyter-widgets/base",
          "model_name": "LayoutModel",
          "model_module_version": "1.2.0",
          "state": {
            "_model_module": "@jupyter-widgets/base",
            "_model_module_version": "1.2.0",
            "_model_name": "LayoutModel",
            "_view_count": null,
            "_view_module": "@jupyter-widgets/base",
            "_view_module_version": "1.2.0",
            "_view_name": "LayoutView",
            "align_content": null,
            "align_items": null,
            "align_self": null,
            "border": null,
            "bottom": null,
            "display": null,
            "flex": null,
            "flex_flow": null,
            "grid_area": null,
            "grid_auto_columns": null,
            "grid_auto_flow": null,
            "grid_auto_rows": null,
            "grid_column": null,
            "grid_gap": null,
            "grid_row": null,
            "grid_template_areas": null,
            "grid_template_columns": null,
            "grid_template_rows": null,
            "height": null,
            "justify_content": null,
            "justify_items": null,
            "left": null,
            "margin": null,
            "max_height": null,
            "max_width": null,
            "min_height": null,
            "min_width": null,
            "object_fit": null,
            "object_position": null,
            "order": null,
            "overflow": null,
            "overflow_x": null,
            "overflow_y": null,
            "padding": null,
            "right": null,
            "top": null,
            "visibility": null,
            "width": null
          }
        },
        "e80c16322d004afeb14039cda88623b5": {
          "model_module": "@jupyter-widgets/controls",
          "model_name": "DescriptionStyleModel",
          "model_module_version": "1.5.0",
          "state": {
            "_model_module": "@jupyter-widgets/controls",
            "_model_module_version": "1.5.0",
            "_model_name": "DescriptionStyleModel",
            "_view_count": null,
            "_view_module": "@jupyter-widgets/base",
            "_view_module_version": "1.2.0",
            "_view_name": "StyleView",
            "description_width": ""
          }
        },
        "d3692d176aab45a587975b07fc4a0124": {
          "model_module": "@jupyter-widgets/base",
          "model_name": "LayoutModel",
          "model_module_version": "1.2.0",
          "state": {
            "_model_module": "@jupyter-widgets/base",
            "_model_module_version": "1.2.0",
            "_model_name": "LayoutModel",
            "_view_count": null,
            "_view_module": "@jupyter-widgets/base",
            "_view_module_version": "1.2.0",
            "_view_name": "LayoutView",
            "align_content": null,
            "align_items": null,
            "align_self": null,
            "border": null,
            "bottom": null,
            "display": null,
            "flex": null,
            "flex_flow": null,
            "grid_area": null,
            "grid_auto_columns": null,
            "grid_auto_flow": null,
            "grid_auto_rows": null,
            "grid_column": null,
            "grid_gap": null,
            "grid_row": null,
            "grid_template_areas": null,
            "grid_template_columns": null,
            "grid_template_rows": null,
            "height": null,
            "justify_content": null,
            "justify_items": null,
            "left": null,
            "margin": null,
            "max_height": null,
            "max_width": null,
            "min_height": null,
            "min_width": null,
            "object_fit": null,
            "object_position": null,
            "order": null,
            "overflow": null,
            "overflow_x": null,
            "overflow_y": null,
            "padding": null,
            "right": null,
            "top": null,
            "visibility": null,
            "width": null
          }
        },
        "c802dad236d249cab95172be9d283cf1": {
          "model_module": "@jupyter-widgets/controls",
          "model_name": "ProgressStyleModel",
          "model_module_version": "1.5.0",
          "state": {
            "_model_module": "@jupyter-widgets/controls",
            "_model_module_version": "1.5.0",
            "_model_name": "ProgressStyleModel",
            "_view_count": null,
            "_view_module": "@jupyter-widgets/base",
            "_view_module_version": "1.2.0",
            "_view_name": "StyleView",
            "bar_color": null,
            "description_width": ""
          }
        },
        "76965961648c492881141af7f83e23c4": {
          "model_module": "@jupyter-widgets/base",
          "model_name": "LayoutModel",
          "model_module_version": "1.2.0",
          "state": {
            "_model_module": "@jupyter-widgets/base",
            "_model_module_version": "1.2.0",
            "_model_name": "LayoutModel",
            "_view_count": null,
            "_view_module": "@jupyter-widgets/base",
            "_view_module_version": "1.2.0",
            "_view_name": "LayoutView",
            "align_content": null,
            "align_items": null,
            "align_self": null,
            "border": null,
            "bottom": null,
            "display": null,
            "flex": null,
            "flex_flow": null,
            "grid_area": null,
            "grid_auto_columns": null,
            "grid_auto_flow": null,
            "grid_auto_rows": null,
            "grid_column": null,
            "grid_gap": null,
            "grid_row": null,
            "grid_template_areas": null,
            "grid_template_columns": null,
            "grid_template_rows": null,
            "height": null,
            "justify_content": null,
            "justify_items": null,
            "left": null,
            "margin": null,
            "max_height": null,
            "max_width": null,
            "min_height": null,
            "min_width": null,
            "object_fit": null,
            "object_position": null,
            "order": null,
            "overflow": null,
            "overflow_x": null,
            "overflow_y": null,
            "padding": null,
            "right": null,
            "top": null,
            "visibility": null,
            "width": null
          }
        },
        "6bb230f870fa4075acda6df774842ebd": {
          "model_module": "@jupyter-widgets/controls",
          "model_name": "DescriptionStyleModel",
          "model_module_version": "1.5.0",
          "state": {
            "_model_module": "@jupyter-widgets/controls",
            "_model_module_version": "1.5.0",
            "_model_name": "DescriptionStyleModel",
            "_view_count": null,
            "_view_module": "@jupyter-widgets/base",
            "_view_module_version": "1.2.0",
            "_view_name": "StyleView",
            "description_width": ""
          }
        },
        "140e9821ff4446669b56cf0af4dae7fc": {
          "model_module": "@jupyter-widgets/controls",
          "model_name": "HBoxModel",
          "model_module_version": "1.5.0",
          "state": {
            "_dom_classes": [],
            "_model_module": "@jupyter-widgets/controls",
            "_model_module_version": "1.5.0",
            "_model_name": "HBoxModel",
            "_view_count": null,
            "_view_module": "@jupyter-widgets/controls",
            "_view_module_version": "1.5.0",
            "_view_name": "HBoxView",
            "box_style": "",
            "children": [
              "IPY_MODEL_00749946e26845249d1a72df75009310",
              "IPY_MODEL_47be4c9711544b449ae9cbdbb7e473cf",
              "IPY_MODEL_2f286827143a4cd0a47bf40dd6da78e4"
            ],
            "layout": "IPY_MODEL_b293c70493384eb6ad6fd4a7d29542a6"
          }
        },
        "00749946e26845249d1a72df75009310": {
          "model_module": "@jupyter-widgets/controls",
          "model_name": "HTMLModel",
          "model_module_version": "1.5.0",
          "state": {
            "_dom_classes": [],
            "_model_module": "@jupyter-widgets/controls",
            "_model_module_version": "1.5.0",
            "_model_name": "HTMLModel",
            "_view_count": null,
            "_view_module": "@jupyter-widgets/controls",
            "_view_module_version": "1.5.0",
            "_view_name": "HTMLView",
            "description": "",
            "description_tooltip": null,
            "layout": "IPY_MODEL_5a11506b5659450e9381f91bb5fcec61",
            "placeholder": "​",
            "style": "IPY_MODEL_2c172ec90691489d97d7ae093acdf26c",
            "value": "split=val:  88%"
          }
        },
        "47be4c9711544b449ae9cbdbb7e473cf": {
          "model_module": "@jupyter-widgets/controls",
          "model_name": "FloatProgressModel",
          "model_module_version": "1.5.0",
          "state": {
            "_dom_classes": [],
            "_model_module": "@jupyter-widgets/controls",
            "_model_module_version": "1.5.0",
            "_model_name": "FloatProgressModel",
            "_view_count": null,
            "_view_module": "@jupyter-widgets/controls",
            "_view_module_version": "1.5.0",
            "_view_name": "ProgressView",
            "bar_style": "",
            "description": "",
            "description_tooltip": null,
            "layout": "IPY_MODEL_a2236a1440bd45a2bb0d64d3d7c30b40",
            "max": 8,
            "min": 0,
            "orientation": "horizontal",
            "style": "IPY_MODEL_e889f1efd1a64f4697623e30e0a5ab78",
            "value": 7
          }
        },
        "2f286827143a4cd0a47bf40dd6da78e4": {
          "model_module": "@jupyter-widgets/controls",
          "model_name": "HTMLModel",
          "model_module_version": "1.5.0",
          "state": {
            "_dom_classes": [],
            "_model_module": "@jupyter-widgets/controls",
            "_model_module_version": "1.5.0",
            "_model_name": "HTMLModel",
            "_view_count": null,
            "_view_module": "@jupyter-widgets/controls",
            "_view_module_version": "1.5.0",
            "_view_name": "HTMLView",
            "description": "",
            "description_tooltip": null,
            "layout": "IPY_MODEL_2f7196b921dd435485283b87295dd957",
            "placeholder": "​",
            "style": "IPY_MODEL_edae81504a8d4b62bf83205c04f13984",
            "value": " 7/8 [01:23&lt;00:00,  1.84it/s, acc=89.8, epoch=5, loss=0.341]"
          }
        },
        "b293c70493384eb6ad6fd4a7d29542a6": {
          "model_module": "@jupyter-widgets/base",
          "model_name": "LayoutModel",
          "model_module_version": "1.2.0",
          "state": {
            "_model_module": "@jupyter-widgets/base",
            "_model_module_version": "1.2.0",
            "_model_name": "LayoutModel",
            "_view_count": null,
            "_view_module": "@jupyter-widgets/base",
            "_view_module_version": "1.2.0",
            "_view_name": "LayoutView",
            "align_content": null,
            "align_items": null,
            "align_self": null,
            "border": null,
            "bottom": null,
            "display": null,
            "flex": null,
            "flex_flow": null,
            "grid_area": null,
            "grid_auto_columns": null,
            "grid_auto_flow": null,
            "grid_auto_rows": null,
            "grid_column": null,
            "grid_gap": null,
            "grid_row": null,
            "grid_template_areas": null,
            "grid_template_columns": null,
            "grid_template_rows": null,
            "height": null,
            "justify_content": null,
            "justify_items": null,
            "left": null,
            "margin": null,
            "max_height": null,
            "max_width": null,
            "min_height": null,
            "min_width": null,
            "object_fit": null,
            "object_position": null,
            "order": null,
            "overflow": null,
            "overflow_x": null,
            "overflow_y": null,
            "padding": null,
            "right": null,
            "top": null,
            "visibility": null,
            "width": null
          }
        },
        "5a11506b5659450e9381f91bb5fcec61": {
          "model_module": "@jupyter-widgets/base",
          "model_name": "LayoutModel",
          "model_module_version": "1.2.0",
          "state": {
            "_model_module": "@jupyter-widgets/base",
            "_model_module_version": "1.2.0",
            "_model_name": "LayoutModel",
            "_view_count": null,
            "_view_module": "@jupyter-widgets/base",
            "_view_module_version": "1.2.0",
            "_view_name": "LayoutView",
            "align_content": null,
            "align_items": null,
            "align_self": null,
            "border": null,
            "bottom": null,
            "display": null,
            "flex": null,
            "flex_flow": null,
            "grid_area": null,
            "grid_auto_columns": null,
            "grid_auto_flow": null,
            "grid_auto_rows": null,
            "grid_column": null,
            "grid_gap": null,
            "grid_row": null,
            "grid_template_areas": null,
            "grid_template_columns": null,
            "grid_template_rows": null,
            "height": null,
            "justify_content": null,
            "justify_items": null,
            "left": null,
            "margin": null,
            "max_height": null,
            "max_width": null,
            "min_height": null,
            "min_width": null,
            "object_fit": null,
            "object_position": null,
            "order": null,
            "overflow": null,
            "overflow_x": null,
            "overflow_y": null,
            "padding": null,
            "right": null,
            "top": null,
            "visibility": null,
            "width": null
          }
        },
        "2c172ec90691489d97d7ae093acdf26c": {
          "model_module": "@jupyter-widgets/controls",
          "model_name": "DescriptionStyleModel",
          "model_module_version": "1.5.0",
          "state": {
            "_model_module": "@jupyter-widgets/controls",
            "_model_module_version": "1.5.0",
            "_model_name": "DescriptionStyleModel",
            "_view_count": null,
            "_view_module": "@jupyter-widgets/base",
            "_view_module_version": "1.2.0",
            "_view_name": "StyleView",
            "description_width": ""
          }
        },
        "a2236a1440bd45a2bb0d64d3d7c30b40": {
          "model_module": "@jupyter-widgets/base",
          "model_name": "LayoutModel",
          "model_module_version": "1.2.0",
          "state": {
            "_model_module": "@jupyter-widgets/base",
            "_model_module_version": "1.2.0",
            "_model_name": "LayoutModel",
            "_view_count": null,
            "_view_module": "@jupyter-widgets/base",
            "_view_module_version": "1.2.0",
            "_view_name": "LayoutView",
            "align_content": null,
            "align_items": null,
            "align_self": null,
            "border": null,
            "bottom": null,
            "display": null,
            "flex": null,
            "flex_flow": null,
            "grid_area": null,
            "grid_auto_columns": null,
            "grid_auto_flow": null,
            "grid_auto_rows": null,
            "grid_column": null,
            "grid_gap": null,
            "grid_row": null,
            "grid_template_areas": null,
            "grid_template_columns": null,
            "grid_template_rows": null,
            "height": null,
            "justify_content": null,
            "justify_items": null,
            "left": null,
            "margin": null,
            "max_height": null,
            "max_width": null,
            "min_height": null,
            "min_width": null,
            "object_fit": null,
            "object_position": null,
            "order": null,
            "overflow": null,
            "overflow_x": null,
            "overflow_y": null,
            "padding": null,
            "right": null,
            "top": null,
            "visibility": null,
            "width": null
          }
        },
        "e889f1efd1a64f4697623e30e0a5ab78": {
          "model_module": "@jupyter-widgets/controls",
          "model_name": "ProgressStyleModel",
          "model_module_version": "1.5.0",
          "state": {
            "_model_module": "@jupyter-widgets/controls",
            "_model_module_version": "1.5.0",
            "_model_name": "ProgressStyleModel",
            "_view_count": null,
            "_view_module": "@jupyter-widgets/base",
            "_view_module_version": "1.2.0",
            "_view_name": "StyleView",
            "bar_color": null,
            "description_width": ""
          }
        },
        "2f7196b921dd435485283b87295dd957": {
          "model_module": "@jupyter-widgets/base",
          "model_name": "LayoutModel",
          "model_module_version": "1.2.0",
          "state": {
            "_model_module": "@jupyter-widgets/base",
            "_model_module_version": "1.2.0",
            "_model_name": "LayoutModel",
            "_view_count": null,
            "_view_module": "@jupyter-widgets/base",
            "_view_module_version": "1.2.0",
            "_view_name": "LayoutView",
            "align_content": null,
            "align_items": null,
            "align_self": null,
            "border": null,
            "bottom": null,
            "display": null,
            "flex": null,
            "flex_flow": null,
            "grid_area": null,
            "grid_auto_columns": null,
            "grid_auto_flow": null,
            "grid_auto_rows": null,
            "grid_column": null,
            "grid_gap": null,
            "grid_row": null,
            "grid_template_areas": null,
            "grid_template_columns": null,
            "grid_template_rows": null,
            "height": null,
            "justify_content": null,
            "justify_items": null,
            "left": null,
            "margin": null,
            "max_height": null,
            "max_width": null,
            "min_height": null,
            "min_width": null,
            "object_fit": null,
            "object_position": null,
            "order": null,
            "overflow": null,
            "overflow_x": null,
            "overflow_y": null,
            "padding": null,
            "right": null,
            "top": null,
            "visibility": null,
            "width": null
          }
        },
        "edae81504a8d4b62bf83205c04f13984": {
          "model_module": "@jupyter-widgets/controls",
          "model_name": "DescriptionStyleModel",
          "model_module_version": "1.5.0",
          "state": {
            "_model_module": "@jupyter-widgets/controls",
            "_model_module_version": "1.5.0",
            "_model_name": "DescriptionStyleModel",
            "_view_count": null,
            "_view_module": "@jupyter-widgets/base",
            "_view_module_version": "1.2.0",
            "_view_name": "StyleView",
            "description_width": ""
          }
        }
      }
    }
  },
  "nbformat": 4,
  "nbformat_minor": 0
}